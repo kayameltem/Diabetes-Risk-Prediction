{
  "nbformat": 4,
  "nbformat_minor": 0,
  "metadata": {
    "colab": {
      "name": "Untitled2.ipynb",
      "provenance": [],
      "collapsed_sections": [
        "EfGueYQcskox"
      ],
      "toc_visible": true
    },
    "kernelspec": {
      "name": "python3",
      "display_name": "Python 3"
    },
    "language_info": {
      "name": "python"
    }
  },
  "cells": [
    {
      "cell_type": "markdown",
      "metadata": {
        "id": "1c_fNsT2rsID"
      },
      "source": [
        "# **Report**"
      ]
    },
    {
      "cell_type": "markdown",
      "metadata": {
        "id": "RSQ48sDZryIS"
      },
      "source": [
        "Our overall goal in this report and assignment is to become used to Decision Tree Algorithm. To familiarize with decision tree algorithm, we are tasked with implementing a decision tree using the ID3 algorithm and preventing overfitting of our decision tree by pruning."
      ]
    },
    {
      "cell_type": "markdown",
      "metadata": {
        "id": "VLy_2xSFdJq5"
      },
      "source": [
        "## Importing necessary libraries and methods\n",
        "\n",
        "Our first job, of course, is to import the libraries that will be used in the implementation of given assignment "
      ]
    },
    {
      "cell_type": "code",
      "metadata": {
        "id": "bVtXa-Rab7IN"
      },
      "source": [
        "import numpy as np\n",
        "import pandas as pd\n",
        "import matplotlib.pyplot as plt\n",
        "from sklearn.model_selection import KFold, train_test_split\n",
        "from sklearn.metrics import confusion_matrix, accuracy_score"
      ],
      "execution_count": null,
      "outputs": []
    },
    {
      "cell_type": "markdown",
      "metadata": {
        "id": "cdqB4Lm-u3Z5"
      },
      "source": [
        "# **Part 1**"
      ]
    },
    {
      "cell_type": "markdown",
      "metadata": {
        "id": "cQFnJsYTu-Lr"
      },
      "source": [
        "In the first part, we will work on a classification problem by creating and using decision tree model by using ID3 algorithm. Our objective is to predict whether a patient\n",
        "is a potential diabetic or not."
      ]
    },
    {
      "cell_type": "markdown",
      "metadata": {
        "id": "n8mTXcPIdpyF"
      },
      "source": [
        "### Read csv file into DataFrame"
      ]
    },
    {
      "cell_type": "code",
      "metadata": {
        "id": "eL87KlAwbWOH"
      },
      "source": [
        "df = pd.read_csv('/drive/My Drive/Colab Notebooks/BBM409-Assignment-2/diabetes_data_upload.csv')"
      ],
      "execution_count": null,
      "outputs": []
    },
    {
      "cell_type": "code",
      "metadata": {
        "colab": {
          "base_uri": "https://localhost:8080/",
          "height": 257
        },
        "id": "Jpq70ypYbXau",
        "outputId": "3b5a8f73-e7fe-41ca-b207-4547d8a96f1a"
      },
      "source": [
        "df.head(5)"
      ],
      "execution_count": null,
      "outputs": [
        {
          "output_type": "execute_result",
          "data": {
            "text/html": [
              "<div>\n",
              "<style scoped>\n",
              "    .dataframe tbody tr th:only-of-type {\n",
              "        vertical-align: middle;\n",
              "    }\n",
              "\n",
              "    .dataframe tbody tr th {\n",
              "        vertical-align: top;\n",
              "    }\n",
              "\n",
              "    .dataframe thead th {\n",
              "        text-align: right;\n",
              "    }\n",
              "</style>\n",
              "<table border=\"1\" class=\"dataframe\">\n",
              "  <thead>\n",
              "    <tr style=\"text-align: right;\">\n",
              "      <th></th>\n",
              "      <th>Age</th>\n",
              "      <th>Gender</th>\n",
              "      <th>Polyuria</th>\n",
              "      <th>Polydipsia</th>\n",
              "      <th>sudden weight loss</th>\n",
              "      <th>weakness</th>\n",
              "      <th>Polyphagia</th>\n",
              "      <th>Genital thrush</th>\n",
              "      <th>visual blurring</th>\n",
              "      <th>Itching</th>\n",
              "      <th>Irritability</th>\n",
              "      <th>delayed healing</th>\n",
              "      <th>partial paresis</th>\n",
              "      <th>muscle stiffness</th>\n",
              "      <th>Alopecia</th>\n",
              "      <th>Obesity</th>\n",
              "      <th>class</th>\n",
              "    </tr>\n",
              "  </thead>\n",
              "  <tbody>\n",
              "    <tr>\n",
              "      <th>0</th>\n",
              "      <td>40</td>\n",
              "      <td>Male</td>\n",
              "      <td>No</td>\n",
              "      <td>Yes</td>\n",
              "      <td>No</td>\n",
              "      <td>Yes</td>\n",
              "      <td>No</td>\n",
              "      <td>No</td>\n",
              "      <td>No</td>\n",
              "      <td>Yes</td>\n",
              "      <td>No</td>\n",
              "      <td>Yes</td>\n",
              "      <td>No</td>\n",
              "      <td>Yes</td>\n",
              "      <td>Yes</td>\n",
              "      <td>Yes</td>\n",
              "      <td>Positive</td>\n",
              "    </tr>\n",
              "    <tr>\n",
              "      <th>1</th>\n",
              "      <td>58</td>\n",
              "      <td>Male</td>\n",
              "      <td>No</td>\n",
              "      <td>No</td>\n",
              "      <td>No</td>\n",
              "      <td>Yes</td>\n",
              "      <td>No</td>\n",
              "      <td>No</td>\n",
              "      <td>Yes</td>\n",
              "      <td>No</td>\n",
              "      <td>No</td>\n",
              "      <td>No</td>\n",
              "      <td>Yes</td>\n",
              "      <td>No</td>\n",
              "      <td>Yes</td>\n",
              "      <td>No</td>\n",
              "      <td>Positive</td>\n",
              "    </tr>\n",
              "    <tr>\n",
              "      <th>2</th>\n",
              "      <td>41</td>\n",
              "      <td>Male</td>\n",
              "      <td>Yes</td>\n",
              "      <td>No</td>\n",
              "      <td>No</td>\n",
              "      <td>Yes</td>\n",
              "      <td>Yes</td>\n",
              "      <td>No</td>\n",
              "      <td>No</td>\n",
              "      <td>Yes</td>\n",
              "      <td>No</td>\n",
              "      <td>Yes</td>\n",
              "      <td>No</td>\n",
              "      <td>Yes</td>\n",
              "      <td>Yes</td>\n",
              "      <td>No</td>\n",
              "      <td>Positive</td>\n",
              "    </tr>\n",
              "    <tr>\n",
              "      <th>3</th>\n",
              "      <td>45</td>\n",
              "      <td>Male</td>\n",
              "      <td>No</td>\n",
              "      <td>No</td>\n",
              "      <td>Yes</td>\n",
              "      <td>Yes</td>\n",
              "      <td>Yes</td>\n",
              "      <td>Yes</td>\n",
              "      <td>No</td>\n",
              "      <td>Yes</td>\n",
              "      <td>No</td>\n",
              "      <td>Yes</td>\n",
              "      <td>No</td>\n",
              "      <td>No</td>\n",
              "      <td>No</td>\n",
              "      <td>No</td>\n",
              "      <td>Positive</td>\n",
              "    </tr>\n",
              "    <tr>\n",
              "      <th>4</th>\n",
              "      <td>60</td>\n",
              "      <td>Male</td>\n",
              "      <td>Yes</td>\n",
              "      <td>Yes</td>\n",
              "      <td>Yes</td>\n",
              "      <td>Yes</td>\n",
              "      <td>Yes</td>\n",
              "      <td>No</td>\n",
              "      <td>Yes</td>\n",
              "      <td>Yes</td>\n",
              "      <td>Yes</td>\n",
              "      <td>Yes</td>\n",
              "      <td>Yes</td>\n",
              "      <td>Yes</td>\n",
              "      <td>Yes</td>\n",
              "      <td>Yes</td>\n",
              "      <td>Positive</td>\n",
              "    </tr>\n",
              "  </tbody>\n",
              "</table>\n",
              "</div>"
            ],
            "text/plain": [
              "   Age Gender Polyuria Polydipsia  ... muscle stiffness Alopecia Obesity     class\n",
              "0   40   Male       No        Yes  ...              Yes      Yes     Yes  Positive\n",
              "1   58   Male       No         No  ...               No      Yes      No  Positive\n",
              "2   41   Male      Yes         No  ...              Yes      Yes      No  Positive\n",
              "3   45   Male       No         No  ...               No       No      No  Positive\n",
              "4   60   Male      Yes        Yes  ...              Yes      Yes     Yes  Positive\n",
              "\n",
              "[5 rows x 17 columns]"
            ]
          },
          "metadata": {},
          "execution_count": 51
        }
      ]
    },
    {
      "cell_type": "markdown",
      "metadata": {
        "id": "r_GWTuIQeQ1A"
      },
      "source": [
        "Convert the DataFrame to a NumPy array for future use. "
      ]
    },
    {
      "cell_type": "code",
      "metadata": {
        "colab": {
          "base_uri": "https://localhost:8080/"
        },
        "id": "_zM6pQ3YbZEm",
        "outputId": "925bcdfe-fb99-4c64-feb7-47b977450387"
      },
      "source": [
        "df_arr = df.to_numpy()\n",
        "df_arr"
      ],
      "execution_count": null,
      "outputs": [
        {
          "output_type": "execute_result",
          "data": {
            "text/plain": [
              "array([[40, 'Male', 'No', ..., 'Yes', 'Yes', 'Positive'],\n",
              "       [58, 'Male', 'No', ..., 'Yes', 'No', 'Positive'],\n",
              "       [41, 'Male', 'Yes', ..., 'Yes', 'No', 'Positive'],\n",
              "       ...,\n",
              "       [58, 'Female', 'Yes', ..., 'No', 'Yes', 'Positive'],\n",
              "       [32, 'Female', 'No', ..., 'Yes', 'No', 'Negative'],\n",
              "       [42, 'Male', 'No', ..., 'No', 'No', 'Negative']], dtype=object)"
            ]
          },
          "metadata": {},
          "execution_count": 52
        }
      ]
    },
    {
      "cell_type": "markdown",
      "metadata": {
        "id": "CprYYvmmexIb"
      },
      "source": [
        "### Discretization process on continuous attribute \"Age\"\n",
        "Before implementing ID3 concept for on attributes in the given dataset, we must ensure that all attributes are discrete.\n",
        "Given dataset contains a continuous attribute which is called as \"Age\". For the discretization process of column Age, we created 5 intervals between range of minimum and maximum values. We rescaled values of Age attribute between 0-4.\n"
      ]
    },
    {
      "cell_type": "code",
      "metadata": {
        "id": "oXFfoXZJbaT2"
      },
      "source": [
        "age_column = df_arr[:, 0] # Age column\n",
        "max_age = max(age_column) # maximum value of Age column\n",
        "min_age = min(age_column) # minimum value of Age column\n",
        "interval = round((max_age - min_age) / 5) #interval value for discretization\n",
        "\n",
        "# discretization of Age attribute\n",
        "df_arr[:, 0] = np.digitize(age_column, list(range(min_age + interval, max_age, interval)))"
      ],
      "execution_count": null,
      "outputs": []
    },
    {
      "cell_type": "code",
      "metadata": {
        "colab": {
          "base_uri": "https://localhost:8080/"
        },
        "id": "pzPL2Np3bcSl",
        "outputId": "01054565-1ab7-4336-eff4-6706889e79a2"
      },
      "source": [
        "df_arr"
      ],
      "execution_count": null,
      "outputs": [
        {
          "output_type": "execute_result",
          "data": {
            "text/plain": [
              "array([[1, 'Male', 'No', ..., 'Yes', 'Yes', 'Positive'],\n",
              "       [2, 'Male', 'No', ..., 'Yes', 'No', 'Positive'],\n",
              "       [1, 'Male', 'Yes', ..., 'Yes', 'No', 'Positive'],\n",
              "       ...,\n",
              "       [2, 'Female', 'Yes', ..., 'No', 'Yes', 'Positive'],\n",
              "       [1, 'Female', 'No', ..., 'Yes', 'No', 'Negative'],\n",
              "       [1, 'Male', 'No', ..., 'No', 'No', 'Negative']], dtype=object)"
            ]
          },
          "metadata": {},
          "execution_count": 54
        }
      ]
    },
    {
      "cell_type": "markdown",
      "metadata": {
        "id": "YIhXGsAxRQsL"
      },
      "source": [
        "### Storing the possible values of each attribute within a dictionary"
      ]
    },
    {
      "cell_type": "code",
      "metadata": {
        "colab": {
          "base_uri": "https://localhost:8080/"
        },
        "id": "rO18A2WmbcU-",
        "outputId": "4c196f88-db9e-4ab0-aafa-ae0b204f124a"
      },
      "source": [
        "name_and_id_zipped = zip(df.columns, np.arange(len(df.columns)))\n",
        "column_value_dict = {column: np.unique(df_arr[:,column_id]) for column, column_id in name_and_id_zipped}\n",
        "column_value_dict"
      ],
      "execution_count": null,
      "outputs": [
        {
          "output_type": "execute_result",
          "data": {
            "text/plain": [
              "{'Age': array([0, 1, 2, 3, 4], dtype=object),\n",
              " 'Alopecia': array(['No', 'Yes'], dtype=object),\n",
              " 'Gender': array(['Female', 'Male'], dtype=object),\n",
              " 'Genital thrush': array(['No', 'Yes'], dtype=object),\n",
              " 'Irritability': array(['No', 'Yes'], dtype=object),\n",
              " 'Itching': array(['No', 'Yes'], dtype=object),\n",
              " 'Obesity': array(['No', 'Yes'], dtype=object),\n",
              " 'Polydipsia': array(['No', 'Yes'], dtype=object),\n",
              " 'Polyphagia': array(['No', 'Yes'], dtype=object),\n",
              " 'Polyuria': array(['No', 'Yes'], dtype=object),\n",
              " 'class': array(['Negative', 'Positive'], dtype=object),\n",
              " 'delayed healing': array(['No', 'Yes'], dtype=object),\n",
              " 'muscle stiffness': array(['No', 'Yes'], dtype=object),\n",
              " 'partial paresis': array(['No', 'Yes'], dtype=object),\n",
              " 'sudden weight loss': array(['No', 'Yes'], dtype=object),\n",
              " 'visual blurring': array(['No', 'Yes'], dtype=object),\n",
              " 'weakness': array(['No', 'Yes'], dtype=object)}"
            ]
          },
          "metadata": {},
          "execution_count": 55
        }
      ]
    },
    {
      "cell_type": "markdown",
      "metadata": {
        "id": "uDGQF76wCSat"
      },
      "source": [
        "## Decision Tree ID3\n",
        "Class of Decision Tree where we define our necessary methods to build a decision tree structure using ID3 concept. \n"
      ]
    },
    {
      "cell_type": "markdown",
      "metadata": {
        "id": "Z2-UvCJIEF4i"
      },
      "source": [
        "### Methods:\n",
        "**get_entropy:** Calculates the entropy of given attribute vector and returns the value of entropy.\n",
        "\n",
        "**get_information_gain:** Calculates the information gain of given attribute vector and returns its information gain.\n",
        "\n",
        "**get_max_information_gain:** Returns the attribute which has the maximum gain and its gain value.\n",
        "\n",
        "**fit:** Places number of columns, attributes and column-values pairs and the root node within our ID3 Model so as to easily predict our test sets using them. \n",
        "\n",
        "**id3_algorithm_recr:** Recursively constructs the decision tree node by node with the help of ID3 algorithm.\n",
        "\n",
        "**single_predict:** Calls single_predict_recr and returns its value.\n",
        "\n",
        "**single_predict_recr:**Predicts a single attribute vector's target class/type and returns the prediction. \n",
        "\n",
        "\n",
        "**predict:** Predicts a full test set's target values using single_predict upon each one of them seperately. At the end returns all of the predictions as a numpy array.\n",
        "\n",
        "**catalogue_twigs:** Finds all twigs from root to leaves. Each twig is a rule which we obtained from our decision tree.\n",
        "\n",
        "**catalogue_twigs_recr:** Finds all twigs from given node using recursion.\n",
        "\n",
        "**prune_tree:** Removes branches of decision tree that do not contribute to the our model to prevent overfitting.\n",
        "\n",
        "\n"
      ]
    },
    {
      "cell_type": "code",
      "metadata": {
        "id": "vqZ3NUvfKeaK"
      },
      "source": [
        "class DecisionTreeID3:\n",
        "    \"\"\"\n",
        "    The Decision Tree Class where we do the majority of our calculations using ID3 algorithm \n",
        "    and its supportive utility functions  \n",
        "    \"\"\"\n",
        "    \n",
        "    \n",
        "    class Node:\n",
        "        \"\"\"\n",
        "        The Node Class where we use its instances to store the majority and the most important\n",
        "        of our tree branch/twig/leaf informations\n",
        "        \"\"\"\n",
        "        \n",
        "        def __init__(self, attribute, attribute_id, values, max_gain=0.0, most_target=\"\", rule=\"\"):\n",
        "            self.attribute = attribute\n",
        "            self.attribute_id = attribute_id\n",
        "            self.values = values\n",
        "            self.children = list()\n",
        "            self.max_gain = max_gain\n",
        "            self.most_target = most_target\n",
        "            self.rule = rule\n",
        "    \n",
        "    def __init__(self):\n",
        "        \"\"\"Constructor of our Decision Tree where we define and initialize our class fields\"\"\"\n",
        "        \n",
        "        self.root = None\n",
        "        \n",
        "        self.all_attributes = None\n",
        "        self.column_value_dict = None\n",
        "        self.twigs = list()\n",
        "        self.rules = dict()\n",
        "    \n",
        "    def get_entropy(self, amounts):\n",
        "        \"\"\"Entropy calculator method\"\"\"\n",
        "        \n",
        "        #Take the proportions of all values within the values array\n",
        "        # p = amount / total_amount\n",
        "        proportions = np.divide(amounts, np.sum(amounts))\n",
        "        \n",
        "        #Take the logarithms of all proportions and save them into a new variable\n",
        "        # log2(p)\n",
        "        logs = np.log2(proportions)\n",
        "        \n",
        "        #Multiply the proportions with logarithms of those proportions and negate them\n",
        "        # -p * log2(p)\n",
        "        pro_times_log = np.multiply(-proportions, logs)\n",
        "        \n",
        "        #Sum all of the final equation results to get the entropy\n",
        "        # entropy = -p1 * log2(p1) - p2 * log2(p2) - p3 * log2(p3)...\n",
        "        entropy = np.sum(pro_times_log)\n",
        "        \n",
        "        return entropy\n",
        "    \n",
        "    def get_information_gain(self, arr_section, column_id):\n",
        "        \"\"\"Information gain calculator method\"\"\"\n",
        "        \n",
        "        #Select the column of the attribute we want to work with as well as the target attribute\n",
        "        sec = arr_section[:,[column_id, -1]]\n",
        "        \n",
        "        #Find all of the possible values within our current attribute\n",
        "        values = np.unique(sec[:,0])\n",
        "\n",
        "        #Find the amounts of possible resulting labels within the current dataset\n",
        "        full_result_counts = np.unique(sec[:,1], return_counts=True)[1]\n",
        "        \n",
        "        #Calculate the overall entropy of the current tree node\n",
        "        full_entropy = self.get_entropy(full_result_counts)\n",
        "        \n",
        "        information_gain = full_entropy\n",
        "        \n",
        "        for value in values: #For each value within the possible values\n",
        "            \n",
        "            sec2 = sec[sec[:, 0]==[value]] #Find the dataset section where the value is chosen for our attribute\n",
        "            \n",
        "            #Find the amounts of possible resulting labels within the newly found dataset\n",
        "            uniques2, counts2 = np.unique(sec2[:,1], return_counts=True)\n",
        "            \n",
        "            #Calculate the entropy of this particular value\n",
        "            side_entropy = self.get_entropy(counts2)\n",
        "            \n",
        "            #Subtract the resulting gains from our overall gain one by one\n",
        "            information_gain -= side_entropy*(np.sum(counts2)/np.sum(full_result_counts))\n",
        "            \n",
        "        return information_gain #Return the final, overall information gain\n",
        "        \n",
        "    def get_max_information_gain(self, arr_section, column_ids):\n",
        "        \"\"\"Find the most gain among the possible attribute gains\"\"\"\n",
        "        \n",
        "        #Prepare a dictionary as a way of easily finding the maximum gain amoung the possible gains\n",
        "        gains_dict = {id: self.get_information_gain(arr_section, id) for id in column_ids}\n",
        "        \n",
        "        #Find the maximum gain's index from our dictionary\n",
        "        max_key = max(gains_dict,  key=gains_dict.get)\n",
        "        \n",
        "        #Return the resulting key and max gain value\n",
        "        return max_key, gains_dict[max_key]\n",
        "    \n",
        "    def fit(self, arr, columns, column_value_dict):\n",
        "        \"\"\"Fit and train the given input array by constructing a decision tree using ID3 algorithm\"\"\"\n",
        "        \n",
        "        #Get the attribute (plus target) amount\n",
        "        column_count = len(columns)\n",
        "        \n",
        "        #Get the names of our attributes (plus target)\n",
        "        self.all_attributes = columns\n",
        "        \n",
        "        #Put the attribute value dictionary within our tree class for easy and safe access\n",
        "        self.column_value_dict = column_value_dict\n",
        "        \n",
        "        #Start constructing the decision tree using ID3 algorithm by putting our tree upon our root node\n",
        "        self.root = self.id3_algorithm_recr(arr, np.arange(column_count), \"\")\n",
        "        \n",
        "    def id3_algorithm_recr(self, arr, column_ids, rule):\n",
        "        \"\"\"Create each branch/twig/leaf of the decision tree by recursively calling itsel while performing the ID3 algorithm\"\"\"\n",
        "        \n",
        "        #Get the possible target values and their amounts within our dataset\n",
        "        classes, counts = np.unique(arr[:,-1], return_counts=True)\n",
        "        \n",
        "        #If the current dataset only contains a single kind of target within itself, then return a leaf node containing that target\n",
        "        if classes.shape[0] == 1:\n",
        "            return self.Node(self.all_attributes[-1], -1, classes[0], rule=rule)\n",
        "        \n",
        "        #Else, find the target value that has the greatest amount between possible target values\n",
        "        most_target_index = np.where(counts == np.amax(counts))[0][0]\n",
        "        most_target = classes[most_target_index]\n",
        "        \n",
        "        #If the attributes we can use currently is zero, then return a leaf node containing the target value with the majority amount\n",
        "        if column_ids[:-1].shape[0] == 0:\n",
        "            return self.Node(self.all_attributes[-1], -1, most_target, rule=rule)\n",
        "        \n",
        "        #Find the highest gain among the possible attributes; store its index and gain\n",
        "        best_id, max_gain = self.get_max_information_gain(arr, column_ids[:-1])\n",
        "        \n",
        "        #Find the possible values that the best attribute can have\n",
        "        values = self.column_value_dict[self.all_attributes[best_id]]\n",
        "        \n",
        "        #Create a node where its attribute and values are the ones of our best attribute\n",
        "        #As well as fill the necessary side fields that we will need in the future\n",
        "        node = self.Node(self.all_attributes[best_id], best_id, values, max_gain, most_target, rule=rule)\n",
        "        \n",
        "        #For each possible value within the best attribute\n",
        "        for value in values:\n",
        "            \n",
        "            #Create the next rule that we will put inside this next node\n",
        "            next_rule = rule + \" ^ \" + str(node.attribute) + \"=\" + str(value)\n",
        "            \n",
        "            #Find the attributes that are not the same as our best attribute\n",
        "            column_ids = column_ids[~(column_ids == best_id)]\n",
        "            \n",
        "            #Find the dataset section where every value of our best attribute is the value \n",
        "            #that we are currently working on within this loop\n",
        "            value_arr = arr[arr[:,best_id] == value]\n",
        "            \n",
        "            #If the resulting dataset section is empty:\n",
        "            if (value_arr.shape[0] == 0):\n",
        "                \n",
        "                #Add a leaf node as the child of this particular node with next rule as its rule\n",
        "                #And the most abundant target value within our current greater dataset as its target value\n",
        "                node.children.append(self.Node(self.all_attributes[-1], -1, most_target, rule=next_rule))\n",
        "            else:\n",
        "                \n",
        "                #Else, call this method recursively and add its resulting node as a child to our current node\n",
        "                node.children.append(self.id3_algorithm_recr(value_arr, column_ids, next_rule))\n",
        "                \n",
        "        #Finally return our current node\n",
        "        return node\n",
        "    \n",
        "    def single_predict(self, sample):\n",
        "        \"\"\"Predict the final resulting target of a single row sample of our dataset\"\"\"\n",
        "        \n",
        "        #Simply call our recursive single predict function by calling it with our root node\n",
        "        #And also our \"sample\" aka a single patient and their dataset information\n",
        "        return self.single_predict_recr(sample, self.root)\n",
        "        \n",
        "    def single_predict_recr(self, sample, node):\n",
        "        \"\"\"Predict the final resulting target of a single row sample of our dataset by recursively exploring our tree\"\"\"\n",
        "        \n",
        "        #If the current node is a leaf node\n",
        "        if (node.attribute == \"class\"):\n",
        "            #Return the value within this leaf\n",
        "            #Note: Unlike branches and twigs, the \"values\" field within leaf nodes only contain a single value, their target\n",
        "            return node.values\n",
        "    \n",
        "        #Find the index of the attribute value within the current node's children\n",
        "        #that has uses the same value as the attribute value within our single sample\n",
        "        child_id = np.where(node.values == sample[node.attribute_id])[0][0]\n",
        "        \n",
        "        #Use the found index to find the next child node that we will journey towards\n",
        "        child_node = node.children[child_id]\n",
        "        \n",
        "        #Return the recursive result of next child node's single predict function call, ie. explore that child node as well\n",
        "        return self.single_predict_recr(sample, child_node)\n",
        "    \n",
        "    def predict(self, sample_arr):\n",
        "        \"\"\"Predict and return the resulting targets of a dataset given to us as input\"\"\"\n",
        "        \n",
        "        #Create a predictions array where we will store each of our predictions\n",
        "        #corresponding to a single sample for every sample\n",
        "        predictions = np.array([])\n",
        "        \n",
        "        #For each sample within our given array\n",
        "        for sample in sample_arr:\n",
        "            \n",
        "            #Call the single prediction function and add its result into the predictions array\n",
        "            predictions = np.append(predictions, self.single_predict(sample))\n",
        "            \n",
        "        #Return the final predictions\n",
        "        return predictions\n",
        "    \n",
        "    # Below this point are the methods used within and for the second part (Part 2) of this experiment and report.\n",
        "    \n",
        "    def catalogue_twigs(self):\n",
        "        \"\"\"Catalogue the twigs within our decision tree by putting the twig nodes within our twigs list.\n",
        "        It also finds and calculates the rules within our decision tree at the same time\"\"\"\n",
        "        \n",
        "        #Before each catalogue, empty the insides of twigs and rules so that they may be filled correctly after changes\n",
        "        self.twigs = []\n",
        "        self.rules = {}\n",
        "        \n",
        "        #Call the recursive cataloguing function by giving it our root node as input\n",
        "        self.catalogue_twigs_recr(self.root)\n",
        "    \n",
        "    def catalogue_twigs_recr(self, node):\n",
        "        \"\"\"Recursively explore the decision tree while cataloguing both the twigs and the rules\"\"\"\n",
        "        \n",
        "        #Find whether the current node is a twig or not\n",
        "        is_twig = True\n",
        "        \n",
        "        #If the current node has no children, ie. it is a leaf\n",
        "        if (len(node.children) == 0):\n",
        "            \n",
        "            #If the value within the leaf is not already within the rules\n",
        "            if node.values not in self.rules:\n",
        "                \n",
        "                #Add this value into the rules dictionary as an empty list\n",
        "                self.rules[node.values] = list()\n",
        "                \n",
        "            #Add the current node's rule into the rules dictionary's current value key's list\n",
        "            self.rules[node.values].append(node.rule[3:])\n",
        "            \n",
        "            #Flag the current node as \"not a twig\"\n",
        "            is_twig = False\n",
        "            \n",
        "        else: #Else, if this node has children\n",
        "            \n",
        "            #For each child within this node's children\n",
        "            for child in node.children:\n",
        "                \n",
        "                #If one of the children is not a leaf\n",
        "                if (child.attribute != \"class\"):\n",
        "                    \n",
        "                    #Flag the current node as \"not a twig\"\n",
        "                    is_twig = False\n",
        "        \n",
        "        #If, after all the previous calculations, the node is found to be a twig\n",
        "        if (is_twig == True):\n",
        "            \n",
        "            #Add the current node into the twigs list within our decision tree class\n",
        "            self.twigs.append(node)\n",
        "            \n",
        "            #Return and finish the recursive call of the current function\n",
        "            return\n",
        "        \n",
        "        #For each of the children of the current node\n",
        "        for child in node.children:\n",
        "            \n",
        "            #Call the catalogue twigs function recursively to explore those nodes as well\n",
        "            self.catalogue_twigs_recr(child)\n",
        "            \n",
        "    def prune_tree(self, valid_set):\n",
        "        \"\"\"Prune our decision tree by getting rid of our unimportant twigs until we hit an unwanted accuracy decrease\"\"\"\n",
        "        \n",
        "        #Select the validation attributes and targets\n",
        "        valid_attrs = valid_set[:,:-1]\n",
        "        valid_target = valid_set[:,-1]\n",
        "        \n",
        "        #Predict the targets of the validation set\n",
        "        valid_pred = self.predict(valid_attrs)\n",
        "        \n",
        "        #Calculate the accuracy of the validation set prediction and store it within last_accuracy\n",
        "        last_accuracy = accuracy_score(valid_target, valid_pred)\n",
        "        \n",
        "        #Iterate indefinetly until we find a pruning attempt that results in a loss of accuracy\n",
        "        while (True):\n",
        "            \n",
        "            #First catalogue the twigs to find every twig after each iteration\n",
        "            self.catalogue_twigs()\n",
        "            \n",
        "            #If there are no twigs, finish iteration\n",
        "            if (len(self.twigs) == 0):\n",
        "                break\n",
        "                \n",
        "            #Find the twig with the least gain\n",
        "            min_gain_node = min(self.twigs,  key=lambda twig: twig.max_gain)\n",
        "            \n",
        "            #Store its contents within temporary storages\n",
        "            children_copy = min_gain_node.children\n",
        "            attr_copy = min_gain_node.attribute\n",
        "            attr_ind_copy = min_gain_node.attribute_id\n",
        "            values_copy = min_gain_node.values\n",
        "            \n",
        "            #Empty the children of the node, turn it into a leaf \n",
        "            #and put the most abundant target the node points towards as its leaf value\n",
        "            min_gain_node.children = []\n",
        "            min_gain_node.attribute = dec.all_attributes[-1]\n",
        "            min_gain_node.attribute_id = -1\n",
        "            min_gain_node.values = min_gain_node.most_target\n",
        "            \n",
        "            #Calculate the current prediction of the validation set using the current iteration of our decision tree\n",
        "            valid_pred_curr = self.predict(valid_attrs)\n",
        "            \n",
        "            #Calculate the current accuracy score of the current predictions\n",
        "            current_accuracy = accuracy_score(valid_target, valid_pred_curr)\n",
        "            \n",
        "            #If the last accuracy greater than current accuracy, ie. if the accuracy decreased\n",
        "            if(last_accuracy > current_accuracy):\n",
        "                \n",
        "                #Then re-insert every stored field's value into our current twig node once again\n",
        "                min_gain_node.children = children_copy\n",
        "                min_gain_node.attribute = attr_copy\n",
        "                min_gain_node.attribute_id = attr_ind_copy\n",
        "                min_gain_node.values = values_copy   \n",
        "                \n",
        "                #Finish the loop iteration\n",
        "                break\n",
        "            else:\n",
        "                #Else, assign the current accuracy into the last accuracy and re-enter the loop\n",
        "                last_accuracy = current_accuracy"
      ],
      "execution_count": null,
      "outputs": []
    },
    {
      "cell_type": "markdown",
      "metadata": {
        "id": "XUZykv8IMMTi"
      },
      "source": [
        "## Displaying Rules\n",
        "#### **show_rules:** Displays the rules of a selected decision tree model and those rules' total amount"
      ]
    },
    {
      "cell_type": "code",
      "metadata": {
        "id": "xR670NTAK2Be"
      },
      "source": [
        "def show_rules(tree_name, rule_list):\n",
        "    rule_size = len(rule_list) #Store rule amount\n",
        "\n",
        "    #Add two brackets to both sides of every rule\n",
        "    rule_list = map(lambda x: \"(\" + x + \")\", rule_list)\n",
        "\n",
        "    #Add two new lines and an \"or\" symbol between each and every rule\n",
        "    rules_string = (\"\\n\\n∨ \").join(rule_list)\n",
        "\n",
        "    #Print and display the resulting outputs\n",
        "    print(\"*\"*50)\n",
        "    print(tree_name, \"Tree's Rules' Size:\", rule_size, end=\"\\n\\n\")\n",
        "    print(tree_name, \"Tree's Rules:\", end=\"\\n\\n\")\n",
        "    print(rules_string)\n",
        "    print(\"*\"*50)"
      ],
      "execution_count": null,
      "outputs": []
    },
    {
      "cell_type": "markdown",
      "metadata": {
        "id": "jeL9mLpMc27G"
      },
      "source": [
        "## Splitting Dataset and Testing\n",
        "Our dataset is splitted into two parts which are training set and test set using 5-fold cross validation method. After this split we fit, ie. construct our decision tree using ID3 algorithm. Later, we predict the results of our test set. After storing 5 (or less) misclassified samples for future error analysis, we start calculating our metrics to analyze our results. After calculating these metrics such as, accuracy, precission, recall, f1 scores, we print them out to analyze these results.\n"
      ]
    },
    {
      "cell_type": "code",
      "metadata": {
        "id": "0lhWOhSOWW65",
        "colab": {
          "base_uri": "https://localhost:8080/"
        },
        "outputId": "ec8da838-7b25-4c3c-f3fe-40091a70e725"
      },
      "source": [
        "#Split dataset using 5-fold cross validation method\n",
        "kf = KFold(n_splits=5, shuffle=True)\n",
        "\n",
        "i = 0\n",
        "#Store decision tree, F1 score and misclassified pairs as a result of each validation set. \n",
        "trees_and_f1_scores = []\n",
        "\n",
        "#For each different fold of the K-Fold\n",
        "for train_index, test_index in kf.split(df_arr):\n",
        "\n",
        "    #Create and initialize the decision tree\n",
        "    dec = DecisionTreeID3()\n",
        "    \n",
        "    #Get our training and test data sets\n",
        "    train_arr, test_arr = df_arr[train_index], df_arr[test_index]\n",
        "    \n",
        "    #Fit/Construct the decision tree with our training dataset\n",
        "    dec.fit(train_arr, df.columns, column_value_dict)\n",
        "\n",
        "    #Predict the results of test dataset and store those predictions\n",
        "    predictions = dec.predict(test_arr[:,:-1])\n",
        "    \n",
        "    #Find the wrong predictions within the predictions list\n",
        "    wrong_prediction_indices = np.where(predictions != test_arr[:,-1])[0]\n",
        "\n",
        "    #Necessary for displaying misclassified samples\n",
        "    #few_wrong_prediction_indices stores  at most 5 indices of misclassified samples\n",
        "    if len(wrong_prediction_indices) < 5:\n",
        "        few_wrong_prediction_indices = wrong_prediction_indices\n",
        "    else:\n",
        "        few_wrong_prediction_indices = wrong_prediction_indices[:5]\n",
        "    \n",
        "    #Store the misclassified pairs of test sample and predictions\n",
        "    misclassified_pairs = list(zip(test_arr[few_wrong_prediction_indices], predictions[few_wrong_prediction_indices]))\n",
        "\n",
        "\n",
        "    #Construct confusion matrix\n",
        "    conf_matrix = confusion_matrix(test_arr[:,-1], predictions, labels=['Positive', 'Negative'])\n",
        "    \n",
        "    tp = conf_matrix[0,0] #Number of True Positive\n",
        "    fp = conf_matrix[1,0] #Number of False Positive\n",
        "    tn = conf_matrix[1,1] #Number of True Negative\n",
        "    fn = conf_matrix[0,1] #Number of False Negative\n",
        "    \n",
        "    #Calculations of classification metrics \n",
        "\n",
        "    accuracy = (tp + tn) / (tp + tn + fp + fn)\n",
        "    precision = tp / (tp + fp)\n",
        "    recall = tp / (tp + fn)\n",
        "    f1 = (2 * recall * precision) / (recall + precision) \n",
        "    \n",
        "    #Display classification metrics \n",
        "\n",
        "    print(\"Current K = \", i)\n",
        "    print(\"Accuracy:\", accuracy)\n",
        "    print(\"Precision:\", precision)\n",
        "    print(\"Recall:\", recall)\n",
        "    print(\"F1:\", f1)\n",
        "    print(\"Confusion Matrix\\n\",conf_matrix)\n",
        "    print(\"*\"*50)\n",
        "    \n",
        "    #Add decision tree, F1 score and misclassified pairs as a result of the test set.\n",
        "    trees_and_f1_scores.append((dec, f1, misclassified_pairs))\n",
        "    i += 1\n",
        "    \n",
        "#Find the best, ie. the highest f1 scored, tree among our k-folded possible trees\n",
        "best_tree_and_f1 = max(trees_and_f1_scores, key=lambda x: x[1])"
      ],
      "execution_count": null,
      "outputs": [
        {
          "output_type": "stream",
          "name": "stdout",
          "text": [
            "Current K =  0\n",
            "Accuracy: 0.9615384615384616\n",
            "Precision: 0.9846153846153847\n",
            "Recall: 0.9552238805970149\n",
            "F1: 0.9696969696969696\n",
            "Confusion Matrix\n",
            " [[64  3]\n",
            " [ 1 36]]\n",
            "**************************************************\n",
            "Current K =  1\n",
            "Accuracy: 0.9519230769230769\n",
            "Precision: 0.9344262295081968\n",
            "Recall: 0.9827586206896551\n",
            "F1: 0.9579831932773109\n",
            "Confusion Matrix\n",
            " [[57  1]\n",
            " [ 4 42]]\n",
            "**************************************************\n",
            "Current K =  2\n",
            "Accuracy: 0.8942307692307693\n",
            "Precision: 0.9047619047619048\n",
            "Recall: 0.9193548387096774\n",
            "F1: 0.912\n",
            "Confusion Matrix\n",
            " [[57  5]\n",
            " [ 6 36]]\n",
            "**************************************************\n",
            "Current K =  3\n",
            "Accuracy: 0.9326923076923077\n",
            "Precision: 1.0\n",
            "Recall: 0.8955223880597015\n",
            "F1: 0.9448818897637796\n",
            "Confusion Matrix\n",
            " [[60  7]\n",
            " [ 0 37]]\n",
            "**************************************************\n",
            "Current K =  4\n",
            "Accuracy: 0.9711538461538461\n",
            "Precision: 1.0\n",
            "Recall: 0.9545454545454546\n",
            "F1: 0.9767441860465117\n",
            "Confusion Matrix\n",
            " [[63  3]\n",
            " [ 0 38]]\n",
            "**************************************************\n"
          ]
        }
      ]
    },
    {
      "cell_type": "markdown",
      "metadata": {
        "id": "db-SatGtWKtk"
      },
      "source": [
        "## **Error Analysis for Classification**\n"
      ]
    },
    {
      "cell_type": "markdown",
      "metadata": {
        "id": "aFA2WbpK9BE_"
      },
      "source": [
        "### **Misclassified Samples**\n"
      ]
    },
    {
      "cell_type": "markdown",
      "metadata": {
        "id": "ZD3oSOB9s8qQ"
      },
      "source": [
        "**Below picture is of a previous test we did, stored for analyzation purposes**\n",
        "\n",
        "Actually it is difficult to find misclassified samples because our ID3 model is well trained. But some reasons may cause misclassification of samples. For example, our training data may include an important number of wrong samples which causes us to construct the decision tree incorrectly, or the single row of test sample we used for this test may be incorrect. The reason of misclassification may be overfitting depending on the distribution of the data in the training set, or it may be underfitting due to the small size of our dataset."
      ]
    },
    {
      "cell_type": "markdown",
      "metadata": {
        "id": "xJS5EXvnjw5e"
      },
      "source": [
        "![image.png](data:image/png;base64,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)"
      ]
    },
    {
      "cell_type": "code",
      "metadata": {
        "colab": {
          "base_uri": "https://localhost:8080/",
          "height": 195
        },
        "id": "joccOVN8SHd6",
        "outputId": "714c11d0-32a1-41a5-9c90-ab368f22514c"
      },
      "source": [
        "#Display misclassified samples and their actual classes as a table\n",
        "misclassified_samples = best_tree_and_f1[2]\n",
        "\n",
        "misclassified_df = []\n",
        "for sample in misclassified_samples:\n",
        "    test_sample = sample[0]\n",
        "    prediction = sample[1]\n",
        "    test_sample = np.append(test_sample, prediction)\n",
        "    misclassified_df.append(test_sample)\n",
        "\n",
        "\n",
        "cols = list(df.columns.copy())\n",
        "cols.append(\"prediction\")\n",
        "pd.DataFrame(misclassified_df, columns=cols)"
      ],
      "execution_count": null,
      "outputs": [
        {
          "output_type": "execute_result",
          "data": {
            "text/html": [
              "<div>\n",
              "<style scoped>\n",
              "    .dataframe tbody tr th:only-of-type {\n",
              "        vertical-align: middle;\n",
              "    }\n",
              "\n",
              "    .dataframe tbody tr th {\n",
              "        vertical-align: top;\n",
              "    }\n",
              "\n",
              "    .dataframe thead th {\n",
              "        text-align: right;\n",
              "    }\n",
              "</style>\n",
              "<table border=\"1\" class=\"dataframe\">\n",
              "  <thead>\n",
              "    <tr style=\"text-align: right;\">\n",
              "      <th></th>\n",
              "      <th>Age</th>\n",
              "      <th>Gender</th>\n",
              "      <th>Polyuria</th>\n",
              "      <th>Polydipsia</th>\n",
              "      <th>sudden weight loss</th>\n",
              "      <th>weakness</th>\n",
              "      <th>Polyphagia</th>\n",
              "      <th>Genital thrush</th>\n",
              "      <th>visual blurring</th>\n",
              "      <th>Itching</th>\n",
              "      <th>Irritability</th>\n",
              "      <th>delayed healing</th>\n",
              "      <th>partial paresis</th>\n",
              "      <th>muscle stiffness</th>\n",
              "      <th>Alopecia</th>\n",
              "      <th>Obesity</th>\n",
              "      <th>class</th>\n",
              "      <th>prediction</th>\n",
              "    </tr>\n",
              "  </thead>\n",
              "  <tbody>\n",
              "    <tr>\n",
              "      <th>0</th>\n",
              "      <td>0</td>\n",
              "      <td>Female</td>\n",
              "      <td>No</td>\n",
              "      <td>No</td>\n",
              "      <td>No</td>\n",
              "      <td>Yes</td>\n",
              "      <td>Yes</td>\n",
              "      <td>No</td>\n",
              "      <td>Yes</td>\n",
              "      <td>No</td>\n",
              "      <td>No</td>\n",
              "      <td>No</td>\n",
              "      <td>No</td>\n",
              "      <td>No</td>\n",
              "      <td>Yes</td>\n",
              "      <td>No</td>\n",
              "      <td>Positive</td>\n",
              "      <td>Negative</td>\n",
              "    </tr>\n",
              "    <tr>\n",
              "      <th>1</th>\n",
              "      <td>1</td>\n",
              "      <td>Female</td>\n",
              "      <td>No</td>\n",
              "      <td>No</td>\n",
              "      <td>No</td>\n",
              "      <td>No</td>\n",
              "      <td>No</td>\n",
              "      <td>No</td>\n",
              "      <td>No</td>\n",
              "      <td>No</td>\n",
              "      <td>No</td>\n",
              "      <td>No</td>\n",
              "      <td>No</td>\n",
              "      <td>No</td>\n",
              "      <td>No</td>\n",
              "      <td>No</td>\n",
              "      <td>Positive</td>\n",
              "      <td>Negative</td>\n",
              "    </tr>\n",
              "    <tr>\n",
              "      <th>2</th>\n",
              "      <td>1</td>\n",
              "      <td>Female</td>\n",
              "      <td>No</td>\n",
              "      <td>No</td>\n",
              "      <td>No</td>\n",
              "      <td>No</td>\n",
              "      <td>No</td>\n",
              "      <td>No</td>\n",
              "      <td>No</td>\n",
              "      <td>No</td>\n",
              "      <td>No</td>\n",
              "      <td>No</td>\n",
              "      <td>No</td>\n",
              "      <td>No</td>\n",
              "      <td>No</td>\n",
              "      <td>No</td>\n",
              "      <td>Positive</td>\n",
              "      <td>Negative</td>\n",
              "    </tr>\n",
              "  </tbody>\n",
              "</table>\n",
              "</div>"
            ],
            "text/plain": [
              "   Age  Gender Polyuria Polydipsia  ... Alopecia Obesity     class prediction\n",
              "0    0  Female       No         No  ...      Yes      No  Positive   Negative\n",
              "1    1  Female       No         No  ...       No      No  Positive   Negative\n",
              "2    1  Female       No         No  ...       No      No  Positive   Negative\n",
              "\n",
              "[3 rows x 18 columns]"
            ]
          },
          "metadata": {},
          "execution_count": 59
        }
      ]
    },
    {
      "cell_type": "markdown",
      "metadata": {
        "id": "cOpTvPAfj41t"
      },
      "source": [
        "Above we can see the misclassified samples of our best decision tree. As we talked about in the previous sections, the reason behind these misclassifications may be multiple and hard to pinpoint. But overall, the most likely culprit is the dataset given to us being relatively small or having incorrect samples within. Resulting in wrong predictions from time to time. Yet, it is also worth pointing out that, even with more or less 150 testing samples we used for this test, we only got 3 misclassifed samples (if it were bigger than 5, we would have seen exactly 5), shows us the correctness and usefulness of the algortihm and decision tree we used and made, giving us exceptionally great results."
      ]
    },
    {
      "cell_type": "markdown",
      "metadata": {
        "id": "hfOgt6ak9Cg5"
      },
      "source": [
        "### **Performance Metrics**\n",
        "\n",
        "We have five ID3 models constructed with respect to 5-fold cross validation. Our dataset contains 520 samples at first. In each iteration, we have 104 samples for the validation set and 416 samples for the training our model.\n"
      ]
    },
    {
      "cell_type": "markdown",
      "metadata": {
        "id": "qQgRKM0_M2va"
      },
      "source": [
        "#### **Representation of Confusion Matrix**\n",
        "Clarifying the matrix notation would be a good start to read and comment on confusion matrix and other performance metrics."
      ]
    },
    {
      "cell_type": "markdown",
      "metadata": {
        "id": "CtLwhtL7N8XO"
      },
      "source": [
        "![image.png](data:image/png;base64,iVBORw0KGgoAAAANSUhEUgAAAYoAAAFBCAYAAABpUehnAAAgAElEQVR4Ae2dBZhU1fvHpRuWpTuX7u5curu7u7uWVhALEBD8qaSYoKCIEgISUqISIkipgIhIKbnf//M9/M94d3ZmduJO7Ox7n+c8M3vvueee+96d93PfOOc8B9lEAiIBkYBIQCTgQALPOTgmh0QCIgGRgEhAJAABhfwTiAREAiIBkYBDCQgoHIpHDooERAIiAZGAgEL+B0QCIgGRgEjAoQQEFA7FIwdFAiIBkYBIQEAh/wMiAZGASEAk4FACAgqH4pGDIgGRgEhAJCCgkP8BkYBIQCQgEnAoAQGFQ/HIQZGASEAkIBIQUMj/gEhAJCASEAk4lICAwqF45KBIQCQgEhAJCCjkf0AkIBIQCYgEHEpAQOFQPHJQJCASEAmIBAQU8j8gEhAJiAREAg4lIKBwKB45KBIQCYgERAICCvkfEAmIBEQCIgGHEhBQOBSPHBQJiAREAiIBAYX8D4gERAIiAZGAQwkIKByKRw6KBEQCIgGRgIBC/gdEAiIBkYBIwKEEBBQOxSMHRQIiAZGASEBAIf8DIgGRgEhAJOBQAgIKh+KRg76QwD///IM///wTV69exbVr1/Dvv//i6dOnMV6adXjuzZs31Xk8n+X69ev466+/cPfuXTx+/BiRkZGqvfv376vjup4zn+wP22c7t2/ftrR/69Yt1a51J3ktHmMf2D6/81xbG/fzOK/BumzfXl2e//DhQ0v/Ka8HDx7YatbhvidPnuDevXuWdnhvjtphf+7cuWOp//fff+PRo0fRrkFZ37hxQ9XjJ/tKWdjbeF3e8x9//KHat1dP72cfWJfn8FxbG++N/dDypGzZD278X9HPhG04KqzHc3X/+cl22Af9f6rPZ59Yl/9bvH6wbgKKYH2ysei+1q5dizp16iBdunTIkycPPvzwQ6XoY7oFKqR169ahadOmyJUrlzqfbeTLlw+dO3fGokWLcOrUKaUIqTzeeOMNSx3Wc6ZkzpwZLVq0wI8//ojx48erc9h+nz59lGK37iOVPY+xDtvv3r07Tp48aV1N/X3mzBl069YNWbNmVXXHjh2L06dP26zLnfv27bP0OTw8HNu2bbNb196By5cv49VXX7W0w3vbuXOnveqqP1OnTrXUHzhwII4cORKt/oIFC1C+fHlVr3r16ti9e7dFSUerDKB58+aqbokSJTBjxgxbVaLsYx3WpUx5rq3t119/xfz585EjRw5Vj7LdtWuXqkoFX6BAAbU/pudu/XwJgQMHDmD69OmoWbMmMmXKZGmHferbty9WrFiB33//3SHobfU5tuwTUMSWJxWk/eQPeOjQoUiZMiWee+45JEuWTP3wfv75Z7t3TIvjs88+Q7t27dSPP02aNChWrBjatGmDZs2aIW/evAgNDVXwqF+/Pj7++GP1I/7yyy9BRWcsDRs2RPr06dW1ef1q1aop5a7rsG8EzpUrVzBkyBBVj223b98efLu23riPx1iH7bVu3Rrff/+9dTX1Vr9582alcOLHj6/q1qpVC++99160unoHlR7bZKFS/uSTT/Qhpz9pPXzxxRcgAHndkJAQLF26VFlxthrZsmULKleubLnukiVL1Nu4rss3db5dN2rUSD079i1btmyYNGmServX9aw/ea+smzNnTowbN876cLS/WYd1eQ7PtbVdunRJKfMUKVKoei1btsT27dtVVb75Z8iQQe3nPVetWjXK/4F+3vwcPXq0Uvy0Vml9rVq1CvXq1UP27NmVvMqWLYuuXbuibt26qk9slxDq0qWLgqi2Ymz1MbbuE1DE1icXJP3mmyeVdapUqdSbWoIECZA7d26lzAgEW9vRo0eV0uYPPlGiREqRLVu2TL1xf/3111i+fLmCRpIkSUClQcW9detW5Xo4fvw4jOWVV15BkSJFlAKhEpowYQIIFF3nu+++w9mzZ5WLy0xQnDt3DhEREeD9UgElTZpUKTJe3xaAKAczQMF2aOFQiVI+vGdaSlSy1hvdOLQ+KGfdzx07dkSxFAgeAqto0aIKjgQkYV+uXDklN1tuKl7Hn6Cg1Uo562ds/Umw//LLL8qV9M0336j/H77I8N5atWqF999/HwcPHlT/J7SkaN0RurRUaH05sgqtZRxb/hZQxJYnFaT9nDdvHgoWLKiUNV0KVF7x4sUDFThdCdYb3/D4hl+oUCEkTJhQKdk333xT+a91XSpagoFvoKzDt2f+gHmu9UYlx7dzKkyW1157TVkf1vX4t5mgIIxo7RAQdJHQdUZlTAVOxWVrMwsUdMMRrIQz75kgJWCtNyrLMWPGqDq6nz/99FOUavTbDx48WEGeb+k1atRQ8CZcNm3apPz3UU74/z/8CYrChQuDlpEzG0FZvHhxJQNaDatXr45ifdHdRFmmTp1a/d+yLl2nwbYJKILticaS+6HLgkFJwoFv/YwzUEmHhYUphUkznn5h641+fbqcqODocuL5DCZab9zHtz/Cgm96/fv3V+4j63r+AAWBRUXFfvEe1q9fjyZNmiBt2rSgW2PlypXW3VR/mwUKukYYc9FwKlWqlIrfWF+U1p5R1nSLMUlAb7QWaG3RmkicODEGDRqEyZMnK5knT54cI0aMUG/mur7xM7aAYuLEiUpO/H9jPILxHGvX0g8//KD+D/nCwefnyH1olEFs+i6giE1PK4j6SpcF/d9UMnyT7tWrl3IdUaHTdUEr4H//+1+0TBL69RlQ5A+XQUe+zdGXbL3RbcUfLK2ATp06KSvkwoUL1tWU28TXFgXdWf369VNvoAyMHjt2DAsXLlSKiG/5fMO35bIxCxQUAkHKQDbf/CnvUaNGRQnEMtOHsqVy5PNhgJhxI2NWFpMJ3nrrLfU2Tctt7ty54PNhrEifs3fvXpsZbLEFFC+88AJogfD/jbEvvswwK4r/v3zZ4UbwE7zffvstDh06pLKuov2jxfIdAopY/gBja/fp/+bbJ/3zLHRB0YxnYJXKkj5fBjCtlfuGDRtQpUoV9cNlAJuZP9ZveJQJFR1/zLwO3SOEif5hG2XmD4uCPm4qSvq9a9eurVIuGWCmr5tuN/r3mVlkDQszQUGQUpZ04fGabdu2jZKdRZkNGDDA4robPnx4tCwvgoPAI2jy58+v2qN/ns+VipXP8PXXX7epOGMLKPgcaLXyfgg/Bq4ZqOez0Gm6/F9jaiwhymLr/8z4PxcbvwsoYuNTi+V95o+JAGAQmS4LplO+++67SpnzrUxnDDGThlaHcaObRmfh0GXCYKO1QjXWj+m7r0HBt0/6/enTZlosA8mE2W+//aYyaaiQGMznm6x1TMVMUFCx8RlUrFhRKUHCl89Ab3wzZgYZ+8M3asLNmFxAODOjiBYRgUDrhHEOxoeYsszzWHr06KHesnW7+tOfoKBbjNYoM9xslWHDhuluqmfw1VdfoXfv3io7jvfK58aXlAYNGqgMKVquOvhtOTHIvggoguyBxobboZ+biof+eSqTnj174vDhw+pNjKmWDIoybpElSxaV7mh0LRlBUbp0aZV9EptAwfvUb6hUwAx80vKh4mUWFO+Z904ZMCXXOIjLTFBoi4tKkYqPriWO49DbO++8gwoVKihrgVlpTCwwvilzPAbdZRoITBZgvIL95XgPJijwDZzQo3uK92jc/AkKWnJ0qTF12VaZNm2asavKkqJlwWw6ps9yzA8ByXYoN0KW43Z4nxcvXvToxSXKhQPoDwFFAD2MuNIVKhQOUqLLgopm5syZalQv759v13zLZi4+j9Ffz/p6M4KiZMmS2LNnj0c/TF9bFMYsGr7NU7FoGPCNnllDvG8GtpmKSnnozUxQ6Da1K49ZTQyoc8AgIcKxBHQJMhmAz8N6o9yZLKBBwefCc7nxeTHmpJ8vA8KEnnHzJyio3Dk+hpaCrcL0a1sbB94xdfajjz5S8Ri+4PAZ8lkxTZvfmYhAiAbbJqAItica4PfDt38qPJr+fOOkouFbLdNFWZjWSsVEJcVjdDNRCelt48aN6m2bx+i6Ygqm9dsq6/LtlzEPZqQwWHz+/HmbQW9fgYLKl64kBtYZQGb/CTp93/x8+eWXVcyCx2hV8M3WOL7BG6DgyHX2iYqOGTtUkgzWMl7CfQQXBywaN8qbKclUuOwry4svvmi5FwJPJyXwGN1SeuCbbsefoHA2PZb/q4zVMPBPCBotW94HXXe0IuiiYzCf98pBeNb3qu85Nn8KKGLz04uFfadriamhWsHwTZbBa/rsjYXjKegP5qhp+od1ts3nn3+uTH+eb8+XT7HwR82sHWbgUClR6RIW1ps7oOAbJNu1NTCO+3iMddhHBokZ4KXSYfyF7jLup2IhDIz3zO/0n/MYCzPCmCKsXT7eAAXlMWfOHOV+YkCaWT10Cxqz0TjuwrgZx1cwEM4+Wz9D/s34E4/TOuQ19DNkW56Agllv2goz9otQnTJlipIrZcznoKcnMY7MdgYUlDlnDeD5BCVnAmC2mvVGaDKhgkFu/r/yus6O0bBuK5D/FlAE8tMJwr4xXZLKkz8olsaNG6vgLv3zxsI3WkKCioYmPZUtFQ3NevqDeS4VFH35xtx+LTK+BdKVwsA434wZVGXA2HpzBxR0qbBPOuvF2Cb38Zh2u3BsAZUaXUj042tLicqKx4z3zO/sJxU2748WF99Y9XW8BQq6Uihvjuvg2z9TitlPFmajaVDp+/zggw8slg9Bz+dB95LxXpgZRDnQj08FyjoEjN48AUWlSpXU/4E1LOjy4kuFlj3HcWi3paugYNsED7PSCD2mxrI9642WIgdI0vIiGPncBBTWUpK/RQIuSIBv+fThUgERAFQidCXxB8lgqbFwBCwhwB+ecbwEg75MuaTbRlscHKlthADBwSAxg7Q6oMrJ4myl0boCCk4qqK+bMWNGNUqXYwn0xu/sN4+xbwzo8g2dgGMsQgeHqVwZo6HiNN4zvxMGBAjvm4WjnvWbrLdAoS0EWjGEBbPJqBwZ6KUP37jRfcb0V94jZcsYBgP0BLjxXmi9UWHy2fE++CyNA9FcBQXhxOw4tkWXF+NaxqwwWnJsX8ueLxGUvc7UchUUOtjPFGEGrvmyQUAxs8v4f8Tr0tXGxAz+T/Pl5u233zaKLCi+i0URFI8xdtwE5zdiZg1/dHQt0ZpgDMHWRsXPt0O+pfFHSOuAVgI3+tX5BssfMJUbp03g2yxdJmvWrFHXoFLhdVhn5MiRKk5h6zqugMJ4Xa04Zs+ebbku016pTPR1ea8nTpxQLqpPP/3UosQIG842amvTiodvxVQ8TMPUU0IYQcER7Lxnuj1sFbqsqLid2ahMCUHKitckJAgBWgXWbTCYy9HalDuVIi0gHcQ2Xotv5PTh003EuszmYgBZbxoUdNnQRWTrHriPsRuOxuf/DuHA+6Zs6BqjO5HPnAF5Wmt8q2f/eZzjO4yz3BpBQdAQwPauyf16BDbHtzChgpYp3YlM2eb8TrTCjNfVYOdkgZwHKtg2AUWwPdEAvh8qS/7Q+KOiP57phgyc2tsY3KVi4Ns5/dz8ATLzhG90zPOnImOwm5YDA9t0E/BvvuXSVUBlRGW9f//+KG+Bxuu5Agpel20xI8jWdWkpsS88xjr6uvqNnW+5vHedDmzsh/E7XRlMudRAnTVrlpKTERSEJ0eUM5Bqq/C+Wd/ZjXX1uAn2kfJjiqzx7ZltMYjNAYGsY0zvtXcdumsoE8KC8KbCJ0Q0KGhd8Vq27oH7CCVaaVT0TEqgLAgfTj9Chc9nznZpuRB0DMgTEpS90eIwgoKxIQLY3jW5nwqf0CYEmTBBK48vAZwxgJYiXXW8Lud/Yj/KlCmj5uwiZGy5Qu3JJ7bsF1DElicVBP3k9A5cq4FTNtOtwQnmrBWR8Tb5YycMWJ++c2ZEaauC9QgZrmVBi4FjE1hPt823TQYh6RJxdA2+efNNV59LpaBjAsa+6O9si2/Ktq7LPrAvPMY6+rp0w1BxE5K8Dq0eW2/h+hoM+DMQz/mvWJ8ZRfS10wWl+xnTJxW0DuTqdh190nKgy0S3y7UXaA1Zb7Q8GG9gPWarMdBtHcMwnsMgMN/eWZ/PnmMsGNin9aWv5eiTSpvA0i8U7CctLKM8eb6OrfDlwyh73RcqfcbGHF3LeIx1eQ43WlyMkbEfHEfBcSW6LkHGvti7rr5+bP8UUMT2Jyj9FwmIBEQCXpaAgMLLApbmRQIiAZFAbJeAgCK2P0Hpv0hAJCAS8LIEBBReFrA0LxIQCYgEYrsEBBSx/QlK/0UCIgGRgJclIKDwsoCleZGASEAkENslIKCI7U9Q+i8SEAmIBLwsAQGFlwUszYsERAIigdguAQFFbH+C0n+RgEhAJOBlCQgovCxgaV4kIBIQCcR2CQgoYvsTlP6LBEQCIgEvS0BA4WUBS/MiAZGASCC2S0BAEdufYED3PxLAYwAPATyQ4nMZUO4ie//971H2TwL6F+ps5wQUzkpK6rkhAcLhIoBDAPZL8bkMuC7CEQAHRPY+lz3/348CuOLG7ybwThFQBN4zCaIe3QHwDQAu0rNUis9lsBLABwCWiex9Lnv+v68G8G1Q/J4FFEHxGAP1Jjif/04AiwA8L8XnMngZwFoAC0T2Ppc9/98J6L2B+uN0qV8CCpfEJZVdk4CAwr+AFFD4V/4CCtf0hdSOoxIQUPhXUQko/Ct/AUUcVXxy265JQEDhX0UloPCv/AUUrukLqR1HJSCg8K+iElD4V/4Cijiq+OS2XZOAgMK/ikpA4V/5Cyhc0xdSO45KQEDhX0UloPCv/AUUcVTxyW27JgEBhX8VlYDCv/IXULimL6R2HJWAgMK/ikpA4V/5CyjiqOKT23ZNAgIK/yoqAYV/5S+gcE1fSO04KgEBhX8VlYDCv/IXUMRRxSe37ZoEBBT+VVQCCv/KX0Dhmr6Q2nFUAgIK/yoqAYV/5S+giKOKT27bNQkIKPyrqAQU/pW/gMI1fSG146gEBBT+VVQCCv/KX0ARRxWf3LZrEhBQ+FdRCSj8K38BhWv6QmrHUQkIKPyrqAQU/pW/gCKOKj65bdck4DkozpwZg/nzG6JChRxRSu3a+dC/fwW8915n/PvvHLUwz/Xr07B+fSe0a1fcUpffFy1qgu++G6HqsC7P6dKlFKpWza3q1aqVFwMGVMRXX/XD339H4L33uqB9+xJo0qQQZs2qh+rVn9Wz7oP+e9y4GmDh3+zXpk3d0aFDCfX3ggWNoywadPjwUAwbVgUNGhRAnz7lMWhQJVSpksvSX91mzZp5sGJFa1y7NjXK+a4pPvdB8dprzdGsWWF07FhSyVRf9+efx2H8+JrqGOv89dcM1K8fFq3/+j42buyMGzemgc+RsqhTJx8qVnz2LCljtvHDD6Oi3OOVK5Pw8stNVZvh4flx6tRoPHgwR52v27X1ybrDh1dVhd/5TCIiwtVz5HX37h2Iu3dnqWvduzcLX3zRx9Lvt99uh1Gjqln+tm7f+jlqeTj+FFC4pi+kdhyVgOegOHZsuFLiSZIkRPPmRfDii02UcunRoywKFswAKvmvvuqLS5cm4vXXW6JatdwoWTKLUvAvvNBIKe6yZbNh0qTaOH58hKrLc/LmDUXXrqUxe3Z99OxZFpkzp1J1v/56ABYubIzChTMiV660StGsWtUG//tfW4wdWwNlymRFihSJUb58Dixd2kLt37GjHyZPro3nnnsOadIkVaAhCFKlSoIuXUqDik8rFCokKqFSpbKo+yJYEidOoMBF5cjrsKxZ0wG8dyo0fa7rn+6Dgko2Z84QpE2bTMHizz+n4+nT+fj++5Fo3bqoOsY6f/wxDRkypFD3Tnnq/utPKnkWKtoSJbKgQIH04HOZMSMcDRsWRJky2TB0aBX8+utk1T7vkc+zXbsSSJo0oZLn2rUdwOsfODBYtU+5jxhRFcmTJ4py3XXrOipIt2xZFKGhydCyZREFi7p186tnQShdvTpFyZPPhC8QCRPGV8905co2aNGiCEJDk6NRo4LR7oPXdl3+Aoo4qvjktl2TgHmgoHKePr2uAgKV5wcfdEX16nmQMmVizJvXEO++21n90LNkSY1u3crg99+nKOUyf34jFC2aCYTFrFn1lXKgAidk3nqrnVIc27f3UW+dBMjmzd0VPAgKwmTx4ua4f3+2UhKsR+VDJcS3YVofWnksWdJCKa2QkGT49NMeChxso379Ati5s5+l3siR1ZAtW2r1Rk7lpEFBJcY+6/bM+fQcFAR0pUo58dlnvfDgwVyHoKAMbPX7ww+7gsqaMCYUaCURDLQUK1bMiYYNC6i3/UeP5qrzX3mlmZJL6dJZkSxZIvTuXQ5nz461tE25U8aUNeFsvC6P8dloUPD58SXBuh1admyXsKElweduBKCt+3B9n4DCNX0hteOoBLwDiocP5yrl27ZtcfV2P3FiLfVjL148M8qXz64AoH/UdGu0bl1MvZlSWb36ajP1dsk32+XLW+HGjenKNbJrV39QoZ04MUKBx1NQfPJJD6UAqex4ncjI+bh7dybq1QtTb+lUmLxmoIMiV64QZcnRRXbz5nQlH6NCNVoURoWt5c9Pun8yZkyJEiUyg9YXnx/302JatqyVgvf+/YNAUNByoBuwRo086pPn5c+fDjt39rec5woo+EJB9xdfDmhpHjkyTF2b7kG+PKRPn0K9dNCSNN6Xsf/ufxdQxFHFJ7ftmgTMAwXf/Oh//uabQUrBzJ3bQLmHsmdPgxUrWqF79zLKHdK0aWEcOjTE8vZJ5dy3b3n15kl30f79g9V5dBERIHRrnDw5WsGCfnAqdCo8T0HBN2DGIOi+Yr8fP56Ho0eHK1dLqVJZQWuCUNKgoDJlvy9cmKDK5csT8eTJfMt9uKesPLco6ELjm3+xYplUnOfbb4dGUahGUDCeo/t/8eIEZa0RCkOGVFbyp2Vy+fIk3Lo1Q7njdF26gW7fnqlkv3VrLxXHYExhwYJGyg2UJEkC9Uy028gVUNAKpPVQrFhm5Wbi37SMCCi6mfhycf78ePU/RVBkzZoa/ftXtNwH+3j9+lT8888zq9K15yCgcE1fSO04KgHzQEEXQ6JECZSrgNDgmyAVDxUsFQfjB/Spt2pVVLlH9A86MvJ5DB78TFHVrJlXvZUePjwMdAEVLJhe+cGpzAcOrKgUNd1aZoCCypDuJAKHSo9BdMYd6PJifIVQMIKCcQreF11sLOwTg8D6Ptz79BwUlOf773dRQXfGGeiCMr55G0HBe9D9Z2yDvn5adBoUlD/lSyVN8Oi6/M59VMZz5tRXcQxel1bZlCl1VD2+COgXAFdBcfHiROUK5PX4bI8eHYYpU2orKIweXR137sy0uNTixYun/s903/jZoUNJZQm5/gwEFHFU8cltuyYB80BBHzMtA/qm+VbLHzuDpPTrM8iqg6/M1OFx/aOmYurbt4J6o2UMguCgQuKbLRXPG2+0Vj5tBmTptmImDIOtnloUVGa7d/dXbZcrlx10rdAnTlfKzJn1lIvFCAqCjkqYfWc5fny4skL0fbj36TkoCAVmC23b1ltlK1HRUsaEsnUwm9lQuv98i2emE+M7GhSVK+dUsQk+sxMnRiqlTXgwFvTqqww0T1VwYRC7X78K+PXXSSr2ROuvUKEMCliUg6ugIAi+/LKvcvnxBWHZspYqQM9nTHcjLUkdpGcchTEufR/8ZKbX7dv/xaOcfxYCCtf0hdSOoxIwDxR8s9PBbFs/VGawMGhNK2Pt2o4WUJw+PQaMZaROnQSNGxdSrqfPP++F06dHKxcIA6v0YVNpEEZ0s1BpmwGK336brN5kqeSoYMPC0is/+YYNnRQEjKAI1GA2QUFoMfjMIDHdMvT12wIF79HWs5k2rS7SpUuuzmMsQMcodHIAQcHnt2VLTxXHoPVImXXuXEoFwbW1xUwp9sNVUDx5Mk8lQTDDihlRzHJjdhzdfvpFQ4NC35et+3B9n4Aijio+uW3XJOA7UDBIynEPjFnwbZQuEbp/+KbKmACVG1NYmQVDZTFpUi0cPDhEjQPgm3yRIpmUD5tv+8yCMQMUVIjMrGJAm3n9VHjdupVW16XSiS2goBKl64xjVMLDw1S2kVaoRteTPVC8/35XpZT5ts4xJFT2t25F4M0324JWBoPVBAWPMUZA2RMStFBoATCdmNltHBNDK81VUFDWtCqYUkurkYkMTNWlpaOVv4DC8S/7OceH5ahIwBMJ+A4UzMjh+AcqZYKBSosBY2YZ0dKgkqAL5Z132qtsFwYx6TphHQabc+QIUTBhlgzTaM0ABZUQr9mmTTHl+kqUKL6KW9DSsAYFM30Yw+BbNQvhxdx9KjitzFz/9Nz1RKjSoqB7j0Fdxg6YQWQLFMyM0v3Xn1TALBz/QpnnyfPMzcSxKXTxENAcsMfnwudGq46yoGuK90vXFTPVaHVQuXOsDDOjnE2PpdXCduhe4jn8X6DFQsuT4y60TDUo6ILk89L915/MlnL9WYhF4Yn2kHPjjAQ8B8WPP45SlgB/4C+91BRayeofuPGTWTF8S2UaLBUSC7/TSqDPnHX//Xe2Ukp0ozBdk3WYEcO/OSKbSmj16vYKMBwdTQXGc3gulT5dL1RoTG81Kg6ew7ZoudC60ceYNcN+a0Wn+8H26BbjmzPfcHV/9Sf38RjrGO/Rte/ug4IuuKpVc6nMLQ5U1NelfJkJxWOsQ0AzzVT32/qTVhyfIa0IWlcc+5IvXzpVn+cxsE8ZU1ET8jyfWWx67ArdRj/9NFal6BLedD/9/vtkJWPKmvUpe90/yp3Phs+Iz4rPjMcIOvaBoOM5tF4Y5NbnMZ7ChAbr/uu/eYx1dH3nPgUUcUbVyY16IgHPQcEfOF04VBzMs2f6qr0fKY8xDZVuEtZn4Xeez3b0eboOg9qsw0/W434Gu43H+V2fx3RVvpmy/rNU2uctx1hPt0XlxnZ4HvvEfutjxn7wO9vhMVuFx4z1dT+c/3QfFOyzvk9jH4yyefY8niUH2Oo/92nZ62ejZc5jun22yWvoY48e/Sdz3iuP6WfK9o4rWkAAACAASURBVNgWZazrG58R5W58RsYUY56n23n2/P77n+A1zH8WAgpPtIecG2ck4DkonFeK/yltOUfLwn1QiAy1DD35FFDEGVUnN+qJBAQU/lW4Agr/yl9A4Yn2kHPjjAQEFP5VVAIK/8pfQBFnVJ3cqCcSEFD4V1EJKPwrfwGFJ9pDzo0zEhBQ+FdRCSj8K38BRZxRdXKjnkhAQOFfRSWg8K/8BRSeaA85N85IQEDhX0UloPCv/AUUcUbVyY16IgEBhX8VlYDCv/IXUHiiPeTcOCMBAYV/FZWAwr/yF1DEGVUnN+qJBAQU/lVUAgr/yl9A4Yn2kHPjjAQEFP5VVAIK/8pfQBFnVJ3cqCcSEFD4V1EJKPwrfwGFJ9pDzo0zEhBQ+FdRCSj8K38BRZxRdXKjnkhAQOFfRSWg8K/8BRSeaA85N85IQEDhX0UloPCv/AUUcUbVyY16IgEBhX8VlYDCv/IXUHiiPeRcpyUQCeAxgH9jafkDkdiBp5Gv4mnki1J8LIPIyMWIfLIWeLwIeLxQis9lsAJ4stfpX3sgV5Q1swP56eABgAsADgD4JtaVp5F78O+TL3Dv0QbcfbROio9lcP+f9Xh0YwNweRVwaaUUX8vgynrg2r6A1jDOdk5A4ayk/FLvNgD+oy0HsCTWlSeRK3D74bs4fes1/PjXK1J8LINzv76G+18vQeSK0cDS4VJ8LYPVEcDBLX7RHGZfVEBhtkRNbS92+/ifRL6Mvx+uxXd/LsLRGwul+FgGpy4swr3PX0Hk8wOA2X2k+FoGr40Hdm8yVSP4qzEBhb8k79R1BRQCGPcBK6DwMxwFFE5pOanksQQEFAIKAUWstYYEFB5rQGnAKQkIKAQUAgoBhVPKwquVxPXkVfF62riAQkAhoBBQeKpHPD9fQOG5DL3YgoBCQCGgEFB4UcU42bSAwklB+aeagEJAIaAQUPhH+xivKqAwSiPgvgsoBBQCCgGF/xWTgML/z8BBDwQUAgoBhYDCgYrw0SEBhY8E7d5lBBQCCgGFgMI97WHmWQIKM6VpelsCCgGFgEJAYbpicblBAYXLIvPlCQIKAYWAQkDhS51j+1oCCttyCZC9AgoBhYBCQOF/dSSg8P8zcNAD80Dx6NE8HD48FLdvR8DRYi5nz47Fjh39HNZxdL7xmEwK6L6SNwOQMteTzPXkQLm4dEhA4ZK4fF3ZPFDcuTMTQ4ZUxunToy0QuHFjGrZu7YkHD+ZY9m3c2Bl9+5a3/G1U/K5+F1AIKGKtNWDGTLMy15OvFWZcvZ55oPjjj2nIkCEFdu3qb4EAv3Mfj2kILFnSArVq5bX8rfe78ymgEFAIKGSa8biqvX143wIKM1wwcbUNcT2J68ksZSWuJ7Mk6ZV2BBRxVcmbcd8CCgGFWWpJQGGWJL3SjvmgWL26Pc6cGaMKv4eGJsP+/YMt+6ZPryuuJx+vRGcGFGy1IaAQUJillgQUZknSK+2YD4omTQqhX78KqvB70qQJ0bVracu+qlVzCSgEFLJsqgSzo2g0AUUUcQTaH+aB4s8/p6NIkYzImDFljKVVq6ISzA4CWIhFIRaFWRpNQGGWJL3Sjnmg+PvvCLRpUxwtWxZFp06l0LNnWfTpU95mWbCgsYBCQCFWhadWhaTHekUrSqPRJGAeKP76awbq1QsDYxA7d/bH9etT8eTJPJvl6dP5AgoBhYBCQGHRSGJRWEQRiF/MAwUH1+XIEYJMmVIiX75Q1K2bH1On1sGXX/YFjz1+PM8UOBjHW8g4ChlHIeMoZBxFIGrWIOuTeaC4e3cWJk2qhRYtiiBfvnRImzYZ8uQJRbVquZU7ataseti0qTt++WW8acAQUAgoBBQCiiBTyoF4O+aBghbDqVOjsX17Hyxf3goTJ9ZCjx5l0aBBARQokF4FusPD82Po0Mp4991OpsBCQCGgEFAIKAJRswZZn8wDhdElxO+c+4ng+PTTHhg3rgaqV8+N0NDkSJQoARo2LCigkBiFxCgkRmHRpxKjsIgiEL+YDwpOAMgMqGvXpuLChQn44YdR4ESAERHhqFQpJ9KlS442bYoJKAQUAgoBhUUpCigsogjEL+aD4ocfRmL16g4YMaKqAkOCBPERP348VcqWzYYJE2riq6/6CigEFAIKAYVFKQY1KB48eIBffvkFH3/8MRYtWoQxY8ZgwIABGD58OObPn48NGzbg5MmTuHv3rkUggfXFPFAwPbZGjTwIC0uP7NnTKMshc+ZUqF07H2bPro8tW3ri5MlRuHp1Chj4tnZVufO3xCgkRiExColRBJZOterNhQsXsHz5cjRu3BgVKlRAoUKFkCNHDmTOnBnZsmVDWFgYypYti/r162PmzJk4cuSIVQuB8Kd5oNDTjGfNmlrFIGg5vPlmW+zZM1BlOt29OxNPnpgzfkJDRUAhoBBQCCgCQZPa7MOPP/6oLIZy5crhueeei7Hkz58fI0eOxMGDB22257+d5oGCK9v16lUOo0ZVU1lPdC/Rgrh0aWK0wsF4Wtl78imgEFAIKAQU/tOfDq78999/48UXX0ThwoWRIEECpE6dGiVKlEC1atVQs2ZNS6lRowbKlCmDDBkyIFGiRMiZM6eCxc2bN/H06VMHV/DlIfNAQXcSR2XPmBGOOXPqOyxr1nQQUEiMQmIUEqOwKLugi1F88803yt2UJEkSpfybN2+Ot99+G/v27cPRo0ct5dtvv8X777+Pbt26gRZF0qRJUaxYMWzbtg0PHz60CMi/X8wDhXY9OWNhyQp3/rUEbE0Z7s4+mRRQJgU0S38FHShmzZql4g9U+gxg0zqIjIxUxVpo3H/r1i0sWbJEWRcZM2ZE//79cfv2beuqfvpbQOGOgpRznoFOQCGgMEtxBR0oevXqpYLV/Lx48WKMciJIfv31V0RERICgqF69Ov76668Yz/NNBfNAQdfTtGl11dxOHDvhqJg1jYfEKPxrmQgoBBRm6amgA0WjRo1QunRpZSU8evTIKTk9fvxYuaEYs8idOzdu3Ljh1Hner2QeKJgeS5fS4cNDTYk/OBPk9hcoth6fjIETGqBRm9Ko37KkW6XvmHD8b+sQHPzteSze2Bcd+1Vz2E7jtmXQvk8VjJjRBIvf7Ytt30/Dod+fhz+tm0AAxdq2tTC4QmF0KJ7X6TK6SjFs695QxUhuT+2OvuUKxnhuv3IFMatuGbzTpiZ+GNoa96f38H+MRaYZ976KdPcKtWrVUimvmzdvdqmJvXv3om3btiq4/ccff7h0rvcqmwcKHaPYtat/0IPiw/3j0KhtGeQOy4jsudNZStacoUiXMZUaXKhjNSlTJbUcN9at26wEXl7bC99cnofx81siW650KnuOAxRTpo56TvpMqZEiVRK1P1f+DKhatxC6Dq6JZR/2x54Ls/0Gi0AAxbhqJZAzTUolu4Tx4yNd8qTImzYV8oWmtlsa5M+ONW1rKkX/x8QuyJAiqSVzMUXihMieJkWUc9MkSQzuz5M2FSrnyIgepcLwdusauDimg39hIaDwnmr0tGWCgmMnPvjgA2UZ0DpwpuzcuRM9evQIelC89lpz7N070GH5/vuRpsDEXxbFl6dmYPbrnTB0SiMMntTQUvqMqotGbUsjSZKEFsVTrExOy3Fj3RmvtcfGPWOigYJgKVkhd5Rzug+thSbtyqj9qVInRbx48ZAkaSI0bFMKyz8agENXX/ALLAINFGmTJUHjAjkwvXZpzK5b1m5Z1rwqDg9sYRMUhTOEYEjFIlHOHVi+EOrnz4awdGksz7V8tgxY2bIark3o7D9YCCg8VefeO5+g4EC6CRMmYM2aNU6XOXPmoE6dOkEPiuLFM6Nq1dwOy9ChVWI1KOy5e74+PxuvrOuFVGmSWRRK+95VHCpxa4sic7YQdB9SK9o5+y7OwYpNA1C9fmEkTZYI8eI9hyRJE6J1t4r44sfp0erb66OZ+wMNFLQkFjep7JJbyNqiaF0kN74f2jqa8v95ZDvMCS+rrI/48eKp5xueLys+7hwera7PxnYIKLyn6D1tmaCgW4Fvda4WnsdxFcHsetIuF0efwZoe601QUMEzJvHxwQnKlZUgYXz1f1i2aj7lwjITAM62FZdAQeV/aWwHTKtVSrmh+P+dPFFC0PXlMzBYj7sQUHiqzr13vgaFI0Xo6Fiwg6JduxIYPbq6w7J0aUuxKP5/wJ2zFgWV95E/FmL3uVlo07MSQjM888vnKZARw6c3EYviuedUbMJbFgVhcHdad+zs3Rh0cfE3Tsuia8n8uDy2o39gIaDwnqL3tGW6kLp06eJ2GThwIO7cueNpN0w63/xg9urV7XH69BiHhdN6OJPVFFMdf8Uo7L1xe9ui4HX3XZqrwJAlR1qlrLLmSIteI+oIKHwAiiezeqsAdvrk/wW/2xTNjZPD2wgoPNRIQZce+8MPP6hR2ByJ7U45dOgQnE2r9VD2TpxuPijiQtaTv0ExeHJDZM4eokCRLWcoGES31ydv7o9rrqfHM3vh7Mh2MIKibdE8OD28rYDCCW3jqErQgeLy5cu4cuWKy1OHc6rxs2fP4sCBA0EJips3p6N8+ex4//0uOHNmjMNy+bJYFFqBu+R6ur4AO85EoGGb0kgTmlyBIn+RLBg3r4WAwgcWxd9TumFzl3oISZpYyT5B/HjoVaYArvor80lcT47Y499jS5cuxcqVK3Hq1KloHeGEf1evXsW9e/eiHTtz5gyef/55NGnSRE3rEa2CX3aYZ1Hcvj0T/fpVwJAhlR3GJxi/kBjFfyOqnQUFA9lfnZ6BFR8NUNYEx1vEix8PlWsXxLIPBwgonntOjX+YXKMkjgxqgR+HtbZZzo9ujztTu1ssAGeynp7M7K3iE0cHtcCg8oWQLNGz9OeMKZIhok4ZS1s+D2oLKPyiNZ26KIPZLVu2xPbt26PV55xOI0aMwI4dO6IdO3bsmFrUKNiD2Y4C+fqYZD25Dootxydj4gutULBYVuiMJ6bJduxbFXvO+2fQXaC5nvT/l6NPjn/4pEs9i3J3BhQ3JnXB9p4NMaBcIWVJ6PZbFs6F7T2ejfD2OSSYASWgiKZnA2aHI1CMHj1ajZV47733ovU32EFx69YMNGlSyOH4CT2+QsZR2AdFwkQJEBKaAnkLZopScubLAI7QTpwkoRpDkTZ9SnQdXAMbdo3C4esLxKJ47jkkSZgAuUOejZ6umjMTbJW+ZQtiX7+mdkGROkkiNSq7aMa00KVQ+jTIFZLSku1EUDQtmAOfdq2Hu9P8OJWHgCKang2YHY5AMWTIEFSuXBnr16+P1l+zQMEJBbn8KmMenJ3WuN2/fx+nT59WhRMR/vPPP8bDNr6b53p69GguDhwYjM2bu2P9+k7YtKk79uwZgN27++PDD7vihRca4aWXmqoYxokTsXtkto4vWH+akfWUMGECpE2XAgWKZo1WipbOgarhhdChb1XMWdYZHx4Yh/1X5vkFErz3QLMosqZKjhGVi2J7z0bY06eJzXJ8cEvcnNzVLijSJE2MAunToGTmdNFKlZyZ0LN0GF5uXAl7+zaN0o5YFDbUiwu7gi6Y7S9QMP6xdetWTJs2DTNmzMDPP/+MJ0+eqEdBQBw+fBgLFy4EZ7VlIbRWrVoFxkbsb+aB4smTeTh/frwCwuLFzXH8+HA8fDgXv/wyARER4ejQoQQ6dSqJV19tppZGjSn11ZnjwZgemyZtcgUDThFiXea90QWL3+2DDbtHqzRZa1D5+u9AA4UZI7PLZUuPueHlsKZNzWjl/Y51caB/M9AVxQwov8DBOOhOLAr7qs3fR3wNCloNBMHGjRvVHFNcUY+z13JZVZ1my0WShg8fjqxZs0bxoZYsScX8Krgqn+3NPFDcvz8bixe3QN68oWjfvoSyJLjk6cqVrZE5cypkyJACqVIlQeXKOfH22+1kHIUbA+58DYKYrheMoLA3hYffoWAEhP4uoLCt1gJhr69BwSnK6bbiOhaJEycGV9bjkqtHjhxRoKB7iRZGlixZ1NKsqVKlUuteJE+eHPHjx1dw4XgP25t5oOA049Wr50G+fOkwYUIttR4FrYrw8PzIli01Wrcuhvr1w8C5oHr2LCugEFCY8kZunD3WDItCQGFbU3h7b5xyPQ0ePNhujILLpA4YMMDluZ4Yixg3bpzFWihevDjmzZunFk2i64njMpo2baosidDQUDRr1gwcPU6wpEmTRi3DOnPmTDvP2TxQ6GnGOXvs779Pwb//zlHxihQpEqu1tDl24ty5cSp1VrKe7Aez7U0KGNPbvT+Oi0UhCxfZUSwu7w5KUJQqVQqjRo1SMQDGAXSpXbs28ubNi759+1r26WOMLVB5u5oey6VUqfyp9Pv16weu2c1pzbXbafny5coVlTNnTpWaywGBPM4R5Fyvm+6onj172nlw5oNizZoOuHUrAmfPjsXUqXUQGpoc3347FP/8Mxt//x2BuXMbqAWOnIlBxFQnGGMUAgrXlK9YFJvs/LZj1+6gBAXjBFypjm/3xpIuXTrQ5ZMjR44o+1knf/78SJs2rcugoNIPCwsD4bR27dpomUy9e/cGr1u/fn1wzQu9ESQc18F4RsOGDfVuq0/zQHHjxjTkypVWpciOG1cDvXqVQ7ly2dG4cUEwVkEr46232qnjrVoVE9eTuJ7E9aRjDe5+SozCSp8F0J+MUegBN+58umpRcEpynsPV8bhKnt7odjp//ryyUgguZjlZr8XNVfgIEPbZ9mYeKGgtdO1aGrlzp0X27GlU8DosLD3efLONsia+/nqAynwqWzYbZs6sJ6AQUAgo3AWEPk9AYVutBcJeupy4AJG7pXXr1g6ykKLfoQYF3U9ffvklGNzmxiD2//73P2VtFChQAK+88kq0kzmeo1q1aj4BBVNhP/+8twUGzG4aNqwKrlyZhCdP5uOjj7qp9FhO8/HNN4OCEhScjmPdjhFo3rm8Zf3r6a+2dzjOwXrN7Ha9q2DOsk4Oz/FHPMLWNQMhRmFcM3tYpSL4vHsDPIxwPnXVes3sFxtWxCV/TRuuAeDsp4Aims4LmB3ff/899u/fD6akMkDtajlx4oRF2TtzU3Q90c3FrKa5c+eq8RPXr1/HyZMn0a5dOzCAbT2lCK0NnkeoZcqUSc0vZfta5lkUOp7A2WM5sO7ll5vis896qeynH34YBcYuGOg2c3bZQItR2FKmwbwvEEARkGmrzip6T+sJKGyrtUDYS0XPQkXsi41jIDp06KCAULhwYTAmMXXqVLRo0UKlytL9NXnyZHAkNrenT5/izz//xAsvvIBixYopi8MXWU8ERWTk89i/fzAGDaqEnDmfTYOt3XMFC2bA9OnhChysp8HiyaeA4r/sKX8ASUDhWuDddKgJKHyhgt27BpU2s4/27NnjXgMunvXvv//i7bffBt1LHEMREhKC9OnTg+MluBQrA+UcjEeXFBdE2rVrl1rTO2PGjKo+4xOffvqpnauaZ1E8eDBHTdvB1Ne0aZMhUaIEUWI5iRMnQPr0KdChQ0ns3NlPQPH/MQp/KHizrimgEFDYUSwu7w7KrCdrV4/LUnHhBFoIv/32mxp5zRRY/YZOSKRIkUKNmTh37pxqkdYHoUCYsB5TdWlN2F+j2zxQcJrx3r3Lg5YDs5oWLGis3E1cn+Kdd9pjzpz6qF07H0qXzooZM8IFFAIKU4LZpr+le+oO8uX5YlG4oEl9XNXRyGxvdoVTdjBGQYumQYMGaNWqlXJBcbzEgwcPLKDYsmWLimlwckJC4vjx4w66ZR4o/vxzOooVy4wBAypi69ZeKh2WVgbdTBxDweVPN2zopKb3aNMmONNjzXpTjy3tiEUhFoUD5eLSIbEoXBKX48rXrl1TczwRBrt371bpsHpiQJ7JOaEIhgkTJuCdd95REwLSyvDFXE96ZPbq1RxwN8OmxcDxFNOn1w3aAXexRcGb1U8BhYDCscZy/mhQgqJevXpYvXo1Lly44HK5dOmSZdZXZ8TI2ANX07M3bThjGCxGYOh2uWQrU2q3bdumd1l9mmdRcMBdjhwhmD27Po4eHQaC4+7dmbh3bxbu3JmJa9emYu/egRg4sCIaNChgEySuBrYlmC3BbHE9ychsK6UWGH/S9cRgMkc8czCbq4Uprfbf8KPfox5HwXmiODmg9fbdd9/ZzcLiKnyMp/hiwB0nBaxfvwBSp06CatVyY/78hvjss95qFtktW3piypTaKFo0EzJlSomBAysJKCRGITEKT+MZEqOwVoeB8zeVboIECZA0aVIVTGZA2ZWSK1cul1JrYwIFYxacW8pWFpYvQcEBdzt29FPTiIeEJFUjs3PkSKPSZDlSO1265EiTJinatSuOQ4eGCigEFAIKAYVFsQel60lnHrnz6e4UHvYsCkfBdV+CIjJyPpj5xBXuRo2qhvBwzk+V1VIaNy6EadPqqgF3dEe56mayVV9cT+J6EteTuJ4stAmkL1TMtAoaNWqk3uT5Nu9K4WhpjndwdovJoggUUGhFfuLECCxf3grjx9dUget16zqCZdu23mpGWS5wpOt6+imgEFAIKAQUzupSn9ajYg4PD1fzLHGZUVeLcQlTZzoeW0DBpVB/+mmsik1wcsCOHUtixoy6OHlyFB4/nmcaHIxwEVAIKAQUAgpn9KjP6zh6g/dGZ2ILKOhOmjWrnloKlSOzuQ4Fl0WdMKGmyn4yKnizvgsoBBQCCgGFN/Sux20KKGzP03Tz5nSUL58dYWHp1VoUTIMtUyab2sdjZsHB2I6AQkAhoBBQeKzUvdGAgMI2KDiOImvW1GqG2LNnx6llT5csaaH28ZhRwZv1XUAhoBBQCCi8oec9bpOB65EjR6qpxj1uzIkGtOspT5484FKrnLrDWDimg1OQV61aNcp+1uE+HiPcbG/mDbjTI7O5JgVjEiz8niFDCjX4ziw4GNsRUAgoBBQCCtu6zc97v/rqK3z99dfg2tSczpvrU7Dcu3cvSs84opprRvDY77//jocPH0Y57uwfGhTupOLqc3wJCq45sWfPQFX4nWMqPvmkh2Ufj504MdIUC0NAIaAQUAgonNWlPq939+5dHD58GIsXL8aIESPUDK6cmsO4cd4lrjo3ZswYLFy4UMGF57m6EUZcV4KWgbuFq+rZ3sy3KOrWzY9OnUqpwu9JkiRE69bFLPt4jNN8GC0Dd78LKAQUAgoBhW3d5ue9jx49Um4nuqCSJ0+OxIkTK5cQFzMybpymo3379mrBIY7i5lQanMiPlkVkZKSxqsPvhMu4ceMwaNAgt8tLL71k5xrmgeLZ7LGZkCVLqhiLzB7rXwUvkwL6eTI/T0dk6/NlCg87ei0AdnNyPi5cREjQtcPFhOrWravmWzJ2j6Do2LGjmheKa0foer/88ovNCfyM5/ruu3mg4EA6Bq8XLmwcY3n33U5iUcgUHjKFh1b47n4KKHynKl290sqVK1G+fHm1uhxXkevVq5daYc56aVRaDp9//rlaprRcuXJIliwZ8ufPj9dee01NB+7qdb1T3zxQcAoPTi9+82bMhbPJuutuMp4nrif/WiYyzbifLRMBhXfUohmtMuaQI0cOlVH01ltvqWA1A850SRk3rkz3119/gSOxP/74Y+WGSpcuHTp16uTS7LGMdbz44otqESIuRBRT4eJG77//PrigUcxThZgHCqMC99V3AYWAQmIUEqMw6t2A+c7AcFhYGKZMmaJA4EzHqLDfeOMNFCpUSAWmGaB2drt58yZokXBZU2cK+1azZk106dIFa9euVetY2L+WgMIsf31cbEcsCrEo7OsW144E5eyx1atXx4YNG1ySBAPZzZs3h7uzx+pUV1c+CQyudHfr1i07fRVQxEUFb9Y9CygEFHYUi8u7gxIUXOHuo48+cikofeDAAfWW7yooaFFUqFBBWTG0FmIqjIPkzp0bqVKlUutmcJbbvXv32nlwAgqzlGZcbEdAIaCwo1hc3h10oODoaCp7pqwyBuFMqiuXKaUFUrBgQTAAzpiGsxtjH4cOHcK+ffucKlzAiDGKBg0aICQkRAXQIyIi7FxOQBEXFbxZ9yygEFDYUSwu7w46UEycOFHFCvjmzsA202UZuLa3Xb9+HRzHUKZMGQWYZs2aOXAFRW+FIOKa2P/884/ThWMvOP15jx49VHpu27Ztozes9ggozFKacbEdAYWAwo5icXl30IHiiy++UOMmOC6C2U+NGzfG1KlTwbTZ9957T7mk+EbP2MDs2bNBJV2gQAGVHku30apVq5TCd1mSLp7AKUSWLl2KkiVLqvUzbJ8uoIiLCt6sexZQCChs6xXX9wYdKOg2mjFjhooDMLDM9bO54h0zk2rUqKFGaXNupUqVKim3D0dls16mTJnQs2dPXLhwwaXYhusi/++MzZs3KxeUL+Z68lVKrPE6kh4r6bGSHivpsf9pvAD7xsD0hAkTULZsWaRIkUINvrOXjcSBdkyL5Wjuzz77zGd3wtgGx3lUrlxZLIogGAVtlhVgZjtiUYhFYZZCCzqLQguGM8KuX79euZ6KFi2q3EvGjCS6mwgILpvKSQFPnTqlT3XpkzEKzkzrbGF8gumw3333nSXLqkOHDnauKa4nMxVnXGtLQCGgsKNYXN4dtKDQktDTiR88eDBKVtI333yjlLX19OP6PGc/aRkw42nnzp1OFU6Dvm7dOtSpUwepU6dW6bSMldjeBBRxTbmbeb8CCgGFbb3i+t6gBwXf+DmvEzOTrMuDBw8cZkQ5I06O4i5RogSyZcvmdMmcObOatDB+/Pho0qQJ6CqzvQkozFScca0tAYWAwrZecX1v0IGC4xQ+/PBDt8uWLVtAgDi7ebJwEWe1pXvs9u3bdi4noIhryt3M+xVQCCjsKBaXdwcdKLgMKgfduVu4LoX9KTWiy5fTlTPG0LBhQ5cK168g0K5evRq9UcseAYWZijOutSWgEFBYVImHX4IOFEw1tZfh5Mx+V6fwoFtr+/bt+PTTT10q586dw5UrV9Q6GUePHrXzGAUUcU25m3m/AgoBiyFdcAAAIABJREFUhR3F4vLuoAMFB9C5Ei+wrlu8eHG11rbLknTjBAbYx48fjyFDhtg5m6DYDeA1AFwFL3aVJ0+X4M79tTj968v48fIiKT6WwbmfXsadrxbj0bLReLR4hBQfy+Dx2xF4cmCLnd927NoddKDYuHGjWh+Ca0S4U15//XWfjMzmvwktEbq67A+4uwOAge53AayLdSXy0Xo8vLoe93Yuwd3ti6X4WAa3d72OG8dX4+qp/+H3029K8bEMrp/dgDuX98UuItjpbdCBQo9TYJzBncKYgzMTCdqRp0u7YwYFLYpdAF4F8GLsKw9eQeTZFXj62nA8XThYio9l8ODNCfj91Jv4/urLOHHtJSk+lsGpP1bi6h0BhUtK0d+VOR34+fPncfLkSZw9exacDNDRZIG+6K9zoNgJYJEpS5Map9fwyfd/FwFnlgELB8r6y+6uu+zBeQ+Xj8ZvZ1bh+PVFMDP2IW05NzXLDzdX4Ld7Agpf6FK3r8GBdpw5lhMAzpkzB8OHD1dzOXFlue7du2Pw4MFqTiiuMsdlST0deOdORwUUfg42eqCEY8McRgIK5xS6t8AnoHBHK/rwHK5jfeTIEcybN09NBJgmTRo1OaAx6ylevHhq0Fv58uUxatQocNbZmNewNvcmBBQCCm8CR0AhoDBLYwVdjIKLEBESHKeQPHlylSrLGWQ5OSCnzNCFK8wlTJhQTRjIGWRbtGiBXbt2+WzmWD5AAYWAQkDhX2XuLWuC7YpFYRamvNAOV7VjuikhwSkyuC4FpxBnZhEXJdKFA+S4XoWxHledu3HjhkuxCwa+OZLbenoQZ/7mKHD2x37WU+weRwGJUfg1NiMWhX8hJKDwgoI3q0mu8UDFS0BwUaBly5ap1eQYr+CMsrr89ttvau2JN954AzVr1lTA4FKonPqbq9U5uzFITvdVvnz5XC5ZsmRRlo6AQiwLb1gWAgoBhbN6LKZ6Qed6YuCaU4hXrVoVa9asUVNkOMpuunbtmlr5jm/2tDwGDhzoUqzCk7medMxEQCGgEFD4V6l7wwUlFkVM+PHj8U6dOiFnzpwYMWIEqMSd2ehu4uA8uqK42BGtBGc31uVqeYSTu6Vr1652LieuJ28o0LjSplgU/oWPgMKOWguE3Xw7L1WqlFoj25X+bN26FVWqVIGrcz0xw2rJkiVq8SMugOROefddjry2tQko4opS98Z9CigEFLa0ijv7gs71RFBwWgxmFLmyHTp0SI2vcBUUrlzDui4XPaJFwsF/tjffg+LRo7n45x8upPS850WC2RLMjsPL3IpFYVurBcRegqJ58+Zq/WvO7Ops4QR9ffv2ddmicPWmmSXFFF72izPIMnhOt5ftzTxQREY+j3//nYOnT+dbABAZOR+PH8+z/E04XLkyCUePDouyz21oCCgEFAIK2z/tWLY3KC2K7Nmzq7Wwe/ToAWdL06ZNkT9/fq+CgqPFaT188MEH6NevH0qXLo2MGTOqdb1t/9+YB4qbN6ejXLnsOHiQM9U+sxZ++20y3nmnvQKI3vfWW+3Qpk0xSx29361PAYWAQkBh+6cdy/YGJSgSJ04MjsamG8nZkjZtWnDgnTdcT5cuXQJjILNmzVIAY9ouM6zYT2Y++SLr6Y8/piFDhhTYtau/BQKHDg1BlSq5cPPmDMu+JUtaoFatvJa/3QKEdlsJKAQUAopYhgTb3Q1KUOi0U3c+zQAFYw+0HPbt26fGcXBeqXr16iEsLCzKokpcCyM8PBzPP883fFubeRaFLVAQGoQHj2kgCCiCJ1VXgtkSzLalVdzZF3SgmD9/vtPuJltuqaFDh7o0jsIo9D///BPff/+9WumO/ejcubNKmU2WLJkFEJxOhOm79evXx6RJk/DRRx+pWIWxnf++Cyi8kQ0UV9oUUAgo/tMlnn0LOlC4Kw4GmDntBmeRdWU9Cg7m42jvH3/8EZyJltZDuXLlLGDQ7qy8efMid+7cyr3FsR579+51YsZa80GxZk0HnD07VhV+Dw1NruIWet+MGeHiegqSWWUFFAIKd/Wh9XlBBwrOu8RCxW+9EQBU7LZAwEWOaA18/fXXKiPJ+lx7fxMsM2fORJEiRdS0IZxfipMNcgoRQoLxCM499d577+HNN99UU3ZMnz4djFvEvJkPirJl6e4KU4XfEydOgJo181r2FSqUQUAhoJD1K0yIrUh6bMwazm81OnbsiP79+6s3dutOUDnzzd/WuAVCYty4cShWrJhLa2ZzVDfneWJgmhMMFipUCN26dcPSpUuxY8cO5VZiHQLlyy+/9DsokiRJiGTJEqnC7/HiPYekSf/blyhRAgGFgEJAIaCIoj6DzqJwNOCO4xWYlsq1J6y3Y8eOYcCAAS5nPRnnemLmFOeYInCYAnv58uUo1gmnMed05/6wKO7fn4UFCxph/vyGWLCgscOyYUMnS3BbB7nd+pSsJ8l6MkHhemMeJl+0KRaFtZYNoL8dgYIuoMqVK2P9+vXReuwuKG7fvq1WzqNVQVAwUM25nzg6nPEKZjQRGlwjY8OGDX4Dxe3bEejVqxymTKmD1avbY+/egTh3bpwaYMdBdsZizIJyCxCSHutXQOhgvcQoJEYRTdG5uSNOWRTeAAVTYZkGSyBwcj9aFISFTs3NnDmzmsaclgyXYWUGFC0XgomxFMeb+TGKwoUzqgF106bVxbp1HcGxFJcuTcSDB3PMsSI0JPgpFoVfgSGgEFA41i/OHxVQ/L+s3LUojKK+cuUKPvnkE4wePVpNTMiR3rQyGNzW4EiUKJHKilqwYIEKnF+4cAG0Smxv5oHir79mqKB1WFh6ZMmSCqGhyZA3byg6diyJhQsbY+fO/jhzZgyuX59qHjQEFAIKcT3Z/mnHsr0Civ9/YGaAQj97WhlXr17Fpk2bwOB6rly5VBaUXnpVQ4PTmvfs2RPbtm3Tp1p9mgeKJ0/mK8th27bemD69LurUyYdMmVKqoDYzn0JCkqJu3Xx46aWmOHlytDnWhYBCQCGgsPpNx84/BRT//9zMBIWe+I9TkDPD6ttvv1UjtNu2bavW7I4XL56yMAgOrt3N9bptb+aBgrEGTgDImWFpXfz++xScOjUamzd3B91QzZsXURZGunTJZa4nyXqSrCcTACfBbNtaLSD2+jqY7cxNcyAfLYwTJ06oOZ+mTp2qpu7gdCG0Lnwx15OtoPTt2zOxZ88AZUV06FASOXOG/H9/ZK4nHRCOzZ8So5AYhTP6yZk6QWlRMDbQrl07labKVFVdOFtr1qxZwZli9T792b17dzU4ztW5nri+Ntfd3r17N7gON6cPd7RxIODZs2fVNOiLFi1S6boTJ060c4p5FoV2PR04MBjvvddFxSWGD6+CDh1KoHbtfKhePQ8aNSqI3r3L4Y03WovrKQisCgGFgMKOYnF5d1CCQscA3Pl0FRRceIjLp7Zv316N0OZqdUePHlXQcLRWN5/U3bt31QBAroVhezMPFPfuzcKcOfXRvXsZBYVcudKqGEXFijnQqlVRjB9fU2VBnTgxArduRQgoBBTifvLQ/SSuJ9taLSD2NmnSRE0xzmnG3SkcD8GR1M5uxgF3BBPP7927t1oe9fDhw/jll1/A6UG4FoXrm3mguHFjGrJn59TrKZA/fzpUq5Yb/ftXAAfXXbgwwbxMJ0mP9WsA2+gqE4tCLArXdY7tM4LOopgyZYoa7MYBb+4UuqDsp6tGFyKhwnETnNuJM8PqQDW/M9uJWU3vv/++mtuJsQoCw9ZcU9Fb5h7zQME1JypXzqXgQNcT4fDw4VybxXrVO1vxDaf2SdaTX6EhoBBQ2NYrru8NOlD89ddfKtOI2UbuFCr+mFxGRjEzJsE5nTgtR82aNREaGmoZM8GsppQpU6pV7EqVKqXmoPr8889Vv5yzMMwDBV1PnL5j7twGWLSoCbjuxLJlrWwWZkI5BQKj9WDru4BCQOGh+8YXU2146xriejJqyiD5ToV/8eJFNWAu5hHT/900rQPGGjhwjmmwmzdvxquvvqqgULRoUTUSmy4pThrIVe3KlCmDunXrIiIiAlu2bFHX/K8162/mgUJbFJwdNqbSrVsZAYXEKCRG4SHkBBTW+izA/v7777+xf/9+pbDHjh0LFrqk1qxZg59++ilab5m6yhHVw4cPR/PmzVVMIVolJ3cQONeuXVMBbc7tNHv2bAwcOBCNGjVSa3LrADszs7i6HY+tW7fOTutmgyInChbMEGMRUATHKnfiehLXkx3F4vLuoHM9cZAb39R79eqFPHnyWNxAXBuiQoUKeOGFF3D+/HkVJ2CQmUB5+eWXwSB4SEiIy7PHxiRxXuPUqVOqT1z1rkOHDqhdu7ZK06WVwbmfGEuxvZkHir//jkD79iXUpIB0PTkqGzd2FotCLAqxKMSisKiloAMFlTIn3yMYuIgQP5n9pOdbKl68uJrAj2MZmMrapk0b5RLimz4D0jzOJU3N3BiPoHvq119/VWAirMqXL69mkuV1fTHg7tatGWjYsCCOHh1mDgRsxSSs90mMQmIUHipbb8UPfNGuuJ7M1KImt7VixQoVB2DWESfkYxC5WbNmyJ49u4oTMCspS5YsaqZXQoSKmkDh2z0XHVq4cCFolXiyMW7BgDjnfOKAPC6YxIA318PgYD8Cif0gvNiHhg0b2rmceRYFpw5nauyuXf0FFEFgLRjTYO19F9eTuJ7sKBaXdwedRTFs2DAFgho1aiiLgetZM/vp9OnTalbXbNmyqTRWLiCkU1kZLxg/frya+pupsc6nr9qWN0Hz3XffYdWqVejRo4ca8c1ANsFFVxOvy78JjVdeeUUtwWq7JQGFPSUo+2OOowgoBBS29Yrre4MOFIw10Hqg4je6kOj+2bNnDzp37myxIqisR4wYoWZ5PXfunBPrQ9gXMEHEgPi8efPUjLFVqlRB4cKFVcyD1gotl3Tp0ql4xLRp01R21PHjx9UIbvtZVuaDgiOxOVWHo8JR2rE9PfbetB6YV68c2hXLg0Zh2Z0uIyoXxcEBzZXL6MTQVlHOm1KrFA4OaGbXncRrHhrQHG2L/nfNpU2r2K3vbdj5AxTvbBuGTv2ro0rdQm6XgRMaYN3OkfjqTARmv94JtRsXU23ValwU4+a3wK6zM+3GT/ZdmouhUxqhXouS6pwug2rgjc2D7Nb3pgtKXE/29aXfj9DfTyW9du3aaH1hYHnu3LlqBtc6deqo0dNcK5vrWbu78VwGqbloEdssUKCAGjtBMLBwShDuHzp0qLIedu7ciZ9//hkcfBfzZj4odL8cfdaqFfsnBfx7Sje0L5YXocmSqOeQNGECZE6ZHAXTp3FYqOR39m6slPuu3o3VuVpWuUNSYnbdsrg9tbtN5c9rftq1PkKSPnsx4HlDKha2WdfbkGD7/gDFio8HIrxZCeTKnyFKyZ47HdKmTxlFnqEZUkWpo89p16sK3tw6BFu/m4J+Y+shWfJn8kyYMD4q1S6A197tY1fxf31+toJE6pDk6lolyufCvBVd7NYXUMSshVgj6CwKR7PH8oaXLFkCrgMxc+ZMjwChxcsBehyBzZgIFQOth4wZM6o4SatWrZRlw5HZDJ4zXuHaZj4oKlXKiSZNCjksEyfWivUWhTUocoWkRJeS+bCoYUWHZV27Wjg/qr1NUPD5hufLhu09G9lU/gKKhdh8eCLmLu+M0bOaRSn9x9VD7cZFo4CiTtPiUerocxat7olPj02OBgrKP2OWNGjfuwq+OjMDh68viAYAAYVrGsbZ2kEJCvr+OfDtzp070QpnbM2dO7cKWjN2YV2H2UmuxCj0XE+MPzAdl9ZM37598eabb6p5nuy7lZx5ROaDYtWqNvjuuxF2y7Fjw/HTT2ODDhSVc2TE+na1bCp4e2/31hYFFVWmlMnQv1wh3J3WHZGzosYJBBT2YwJf/DgN4+e3iAKKCS+0iqbojW/41hYF5c+St2AmLHqnBw78Oj/a+QIKZ/SK63WCEhRU1nQHffHFF9EKXUDMeuL62YwpWNfZtWtXjFOFG8VMi4Lg4fiIlStXqjETxuOefTcfFPaynjgNOed+4qJG165NFVDM7gNrUMSPFw8sJTOHYnefJngY0SsKeAQU3gUFk0Dix48HupVojez4KQJH/ohqVQgoPNM49s4OSlAw/ZSD5+gCsi5cUY5uIn4yfmB9nAFoYxDcnuD0fgbJT548qRYmojXClFjzNt+BgpbE66+3VGto9+hRVkBhAxRh6VKDJVWSRKifPxv+mtxNQOHkOAkzLIqMWVIjW65QpEiZBKHpU6pAN2FhtEIEFOZpH2NLQQkKbaK68+nqehQUJuHgirvK+AAcfzcPFLQWduzoh5s3pysI3L4dAcKBixT1718RNWrkQYECGcClUOvWzS+gsAGKDsXzoneZAsiQIhkyp0yGDe1r489JXS2wEIvCuxZFrnwZVKCaGU2JEiVA+er58fbnw3Dw9+ctsBBQONYo7h4NOlBMmjRJjU9gnMKdwlHdnCsqMDbzQPH06XzlVjp+fATWr++IyZNrq7Wxy5bNpuDAjJK8eUPRunUxZVnE9vRYKm1j1pMZMYrhlYrif61qgMBInCA+GuTPjsMDW+DxzGcuKAGFd0GRp0AmDBhfH3OWdULGrGmQKk0yjIxoii3HJgsovKywgg4Uhw4dAqfydrdwBDUn9guMzTxQ3L8/G6++2hwDB1ZElSq51PrYBAPHVTRuXFDBgi4nWh3Xr08Ti8KGRTGqSjE1TmJt21rImio5UiZOhJcaVcTlsR2VVSGg8D4oJjzfCh8fmoAWXcojSdJEKFslL5glpQPbYlF4R3MFHSi0mKjsuTYF51e6fPmy+qSl4Nw6ELoVf3+aBwo9hUeCBPGRNm0ylC+fHQMHVsLKla1x5MgwlCuXXa1RYYoloed88uNcT9YWRfFMaTGzThns79/MZjnYvxlODmuD+9N7WFxJ1sFsguLcqPb4aWRb9CxdAMkSJkD1XJmxqUs9FdgWUPgGFPsuzsXKTwapMRh0QXUeUA0fHxqvrAoBhXd0VlCCgjEDzhDL8Qtc94HTjHNhoU2bNuHKlSt48uSJd6RpeqvmgYJLoebKFaIsh2bNCiMiIlzFJ2hB/PnndLU06quvNgNXt4uMfD7oLIp4nNOL82vFj2+zJE+UUI2R+H5o6xhB8e+Mnjg6uCUyp0qm2hxXrTgujOkAAYVvQMHg9d6Lc9FndF1kypoGBYtlxZRFbdS4CgGF6UpINRiUoOAYCk7dnT59ejVzLDOcOIMsB9r1799fzenkHXGa3ap5oHjwYA62bOmJMWOqg4PuMmdOhdDQZMiYMSWyZUuDJEkSgq6nvXsH4s6dmUEHCmYqFUwfgpq5s9gs4XmzYWSVojg3ql2MoIic3UdBYWKNEsiWOjnKZEmPN1tWF1A4yIAyI+uJMQq6ngiKb6++gPf3jUHZqnmRPEViNGxTGh/uHwcBhdk66Fl7QQcKzp/EtSg4AM4664lpsYQF53eKHZt5oIiMnA+uSXHu3DgcODAYb7/dHoMHV1bxCprvlFWWLKmUC2rUqGpBB4rimUIxN7wsjgxqYbMcHdRSuZT+ccL1xAF6DGCfGNIK1XJlRtpkSdCzdJiaIyquT+FhTFU1fjcbFEf+WIj9V+apYHa+QpnBjKghkxsKKLyk2IIOFBz0VrZsWTXfEteW4OytHGTXrl07NQ8TZ2+tXr26WoI08F1Q5oHCOvbA9SmYAcX1sZ9/vhF69SqnIMH4RTDO9WRG1pOOURAUtCrognqhQQUUyRiCIhlCMKlGSXzQsS7SxOG5noxwMH43GxS67Y8OjEezTuWQNl0KVKieH69/0B+1mxRXg/L48iNzPZlDjqADxejRo9VI6UqVKqmV6w4fPqyWP929ezfGjRunZnTlWtaffvqpR7PFmiP+mFoxHxS3b8/ElSuTwJjF3buz1FQe+/cPxltvtcPo0dXRqVMpRETUCzqLwmxQ6Gk/Tg9vg75lCyJLquQomzU9ZtQujRSJE1qs2bg2KaBW4Naf3gIFr8MZZkuUy4X0mVKjWafyanwFU2cFFDHpF+ePBx0o2rZtq+Zcmjx5crRJ/44dO6bmYcqbNy8WL17s8QJFzovZ3ZrmgUK7nhinWL68lVrA6OzZsRg8uJKl0OW0bFkrnDw5SkBhJz2WWU8aEvqT6bJVcmRC6iSJUCZreiSKH19AYRWv8CYoPv9+qhpfkTJ1UqRKnRS58qVH0mSJBBTuqh0b5wUdKDh7LBct2rhxY7Tb5YJCCxYsQFwExYMHc7F1ay8UK5ZZFU7XwXmf4sXjErBcaS+hGu3KAXiEhbWryq2/Ayg91lsWBWHxy+j2GF+9RBRA6PiYWBTPMqG8CQpaFa9t6INSFfNYAK3lL66naGrQrR1BCYrmzZtj27Zt0QTCaTZoScRFUHDKDsYhcudOq0Zff/ZZLwWK5MkTYeTIapgypTaaNy+CEiWyqHpugUGPn9CfcQQUj2f2xrYeDVE/f/ZoikpA4RtQcNrxqS+1jSZ/AUU0NejWjqAEBVNjt2/fblMgXI8iLoKCYyUKFsyg0mNpSfBvfoaGJlcD7i5cmKBSY5kJ1aBBAbEoXHA90aq4NqEzVrSohhSJEykrTb/RCih8Awqmy7779Wg0alsGSZL+FyMSUNhUgy7vDEpQ1KtXD6tXr1aD7jjwzli4YFHOnDkxY8YMNeur8Ri/X7x4MYAG5JkXo9Ajs9eu7aDSZGkx/PDDSHTtWtry940b0zFzZj3Jepr9bJ0JeyOzdWzC+PlkZm8cG9wSzQvlRJKEz9KNCQsBhW9AQffT7vOz8fKaXkifKZWajpzyF1C4zASbJwQlKMLCwtC+fXu1uhzXzjYWQoRTkIeHh4MZUsZj/G7Wync2pe3yTvNAwSynbNlSY8KEWtizZwB++22yyn766qu+akbZy5cn4qOPuqlpxhs3LhTrLQqOh1jRvBq4Bna/cgUxv145NU+TUbnH9P3MiLbqXJ7PsrFDHfwxsUu0YLZu5+bkrtjcpR6GVCxiOY8r5unjvv70x1Ko1tlO+m8OhFv+0QC06lbRUlZsGmiZzE/XM35ybeyX1vRC+z5V1TlcFpVLrRrrGL8fvvYCvjw1A71H1kGbHpXUOcOmNcbqL4bbPcd4vtnfZc1slxWe705gMFub/e58ujPNuPfuzjxQcEGi6tXzIFeutGjfvgQWL26OzZt7KHfThx92xYsvNlZTjefPnw5jxtSI9aDwtVIOxOsFEijMVsKxoT0Bhfc0o8ct169fHxxU527hyG2uWhcYm3mg+Oef2VixojWKFcuExIkTWExzDVOuHMbMp7Zti+Pw4WECiv93PwUiAJztk4DimdvLX1ARUASGFrXZi1WrVmHKlClul7lz50Ybf2HzQj7ZaR4oOI7i3r1ZoPXQuXMpNb+ThgQ/8+VLpwbccfAdFzmK7VlPzirTYK4noBBQmKWmgi5GcfXqVVy4cMHtwinJA2dqD/NAwVlhT58eg8uXJ+HkydHYs2cgtm/vYynffDMI58+PV9N67NzZT0AhFoVf/Pr+evv3xnXFojALU9JODBIwDxScuqNPn/JRRl0zoP322+3w77+zLWD48MNuGDasiuVvjywLP46jCGZLwdl7E4tCLIoYFIzTh4POonD6zmNFRfNAodNjOXZCK/9vvx2q1qFgoFvvW7KkRVCkxzqrTIO5noBCQGGWmhNQmCVJr7TjXVAQGhkypAAhIqB4NnYimMAhoBBQmKWWBBRmSdIr7Qgogklx+/peBBQCCrPUkoDCLEl6pR0Bha+VazBdT0AhoDBLLQkozJKkV9oxHxScHTY8PL8q/M4xFTVq5LHs43xQwbBwUTApfHfvRUAhoDBLLQkozJKkV9oxHxTGsRP2vgsogiNeIaAQUJillgQUZknSK+2YB4o7d2aqmWMHDKiImMqiRU0swW0d5HbrU9Jj/TbPE60QAYWAwiy1JKAwS5Jeacc8UOgBdz/+OAoxFU457hYY9DoU+lNAIaCwWunOGwPbArVNGXDnFaUojUaXgHmguHUrQi1YVKdOPsRUuCSqgCL2u5/EohCLIrpOcW+PWBTuyc1HZ5kHimfTjKdRy55y6VNHpV69MAGFTOEhU3h4aA2JReEjNSmXMQ8UevbYV15pBmN5+eWmmDevIRo1KoiMGVOCS6VOnlxbQCGgEFAIKCwqWCwKiygC8Yt5oHj6dD6uXp2iFiziHE+XLk1US6CuWtUG3buXUTPKjhhRVU1Ffvz4cAGFgEJAIaCwKEUBhUUUgfjFPFDomMP9+7Nx9uxYfPJJDzC7idZD//4VsHRpSxw7Nhx3784yBxIMaEswW4LZHirbQA1UO9MvcT0Fok4Nyj6ZB4onT+bhl18mYOvWXmpd7FatiqJBgwKYN68BvvtuhJrv6fbtCDDozVRaDRaPPgUUAgoBRVBoJrEoAvoxmgcKKv/hw6sic+ZUSJcuOdq0KY533mmPrVt7Rikff9wdO3bIehTujoYOpPMk60mynsxSbwIKsyTplXbMAwWznnLmDFFLoD5b9jQRQkKSITQ0uVVJhqZNC4tFITEKiVF4aA2J68krSlEajS4B80DBNSeY9lq+fPYYC0due+RykgF3fnU5aatGLAqxKKLrFPf2iEXhntx8dJZ5oOA62J9/3hubN3ePsezbN0hAIRaFWBRiUVj0nIDCIopA/GIeKEyxELSl4OynBLP9almIRSEWhVlaTUBhliS90o6AQrtR5NP1KUUEFAIKs9SSgMIsSXqlHQGFAMJ1QGiZCSgEFGapJQGFWZL0SjsCCq305NN1YAgoBBRmqSUBhVmS9Eo7AgoBhOuA0DITUAgozFJLAgqzJOmVdgQUWunJp+vAEFAIKMxSSwIKsyTplXYEFAII1wGhZSagEFCYpZYEFGZJ0ivtCCi00pNP14EhoBBQmKWWBBRmSdIr7QgoBBCuA0LLTEAhoDBLLQkozJKkV9oRUGilJ5+uA0NAIaAwSy0JKMySpFeR+tvRAAACT0lEQVTaEVAIIFwHhJaZgEJAYZZaElCYJUmvtCOg0EpPPl0HhoBCQGGWWhJQmCVJr7QjoBBAuA4ILTMBhYDCLLUkoDBLkl5p5w6A/QBWAlgW+8qDlcDPq4EVk4HXxkvxsQwerZ2Naz+vx8k/3wDXRpDiWxmcubUe1+4f9opm8HWjAgpfS9yl6/0L4AKAbwDsjX3l4V7g1z3A3k+A3Zuk+FgGTw5uxe0r+/D73X347Z4UX8uAkLjz6LJLv/hArSygCNQnI/0SCYgERAIBIgEBRYA8COmGSEAkIBIIVAkIKAL1yUi/RAIiAZFAgEhAQBEgD0K6IRIQCYgEAlUCAopAfTLSL5GASEAkECASEFAEyIOQbogERAIigUCVgIAiUJ+M9EskIBIQCQSIBAQUAfIgpBsiAZGASCBQJSCgCNQnI/0SCYgERAIBIgEBRYA8COmGSEAkIBIIVAkIKAL1yUi/RAIiAZFAgEhAQBEgD0K6IRIQCYgEAlUCAopAfTLSL5GASEAkECASEFAEyIOQbogERAIigUCVgIAiUJ+M9EskIBIQCQSIBAQUAfIgpBsiAZGASCBQJSCgCNQnI/0SCYgERAIBIgEBRYA8COmGSEAkIBIIVAkIKAL1yUi/RAIiAZFAgEhAQBEgD0K6IRIQCYgEAlUCAopAfTLSL5GASEAkECASEFAEyIOQbogERAIigUCVgIAiUJ+M9EskIBIQCQSIBAQUAfIgpBsiAZGASCBQJSCgCNQnI/0SCYgERAIBIgEBRYA8COmGSEAkIBIIVAn8H5Ci2Mbc6zhyAAAAAElFTkSuQmCC)\n",
        "\n",
        "*(Bhandari, 2020)"
      ]
    },
    {
      "cell_type": "markdown",
      "metadata": {
        "id": "mWjRkAURV0By"
      },
      "source": [
        "The target variable has two values: Positive or Negative\n",
        "\n",
        "The columns represent the actual values of the target variable\n",
        "\n",
        "The rows represent the predicted values of the target variable"
      ]
    },
    {
      "cell_type": "markdown",
      "metadata": {
        "id": "wRYK6cXztwZe"
      },
      "source": [
        "**Performance metrics of each validation set is below.**"
      ]
    },
    {
      "cell_type": "markdown",
      "metadata": {
        "id": "AqFqeohcHy8A"
      },
      "source": [
        "![image.png](data:image/png;base64,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)"
      ]
    },
    {
      "cell_type": "markdown",
      "metadata": {
        "id": "FA09MomIJbBW"
      },
      "source": [
        "In our first model, precision value gives us the result that all of the correctly predicted cases actually turned out to be positive. This is a rare but possible result stemming from our test case having an exceptionally small number of samples that result in a high probability of homogeneous and similar results."
      ]
    },
    {
      "cell_type": "markdown",
      "metadata": {
        "id": "HH8ULgWxH6e_"
      },
      "source": [
        "![image.png](data:image/png;base64,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)"
      ]
    },
    {
      "cell_type": "markdown",
      "metadata": {
        "id": "GkPq2Uf8H-ys"
      },
      "source": [
        "![image.png](data:image/png;base64,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)"
      ]
    },
    {
      "cell_type": "markdown",
      "metadata": {
        "id": "pIWj8YrIIL3Q"
      },
      "source": [
        "![image.png](data:image/png;base64,iVBORw0KGgoAAAANSUhEUgAAAaMAAACcCAYAAADSzsQ4AAAeP0lEQVR4Ae2dTZLbRrNFv614H16EvQStwBvQBrwAjVtjzzXuqffgsaYeetovbr84iquMrALABkmAvBXRKqAqK39ONTIJqgn+7y0tBEIgBEIgBO5M4H93th/zIRACIRACIfCWYpRfghAIgRAIgbsTSDG6+xbEgRAIgRAIgRSj/A6EQAiEQAjcnUCK0d23IA6EQAiEQAisKkb//vvv2++///72yy+/vP/oWGNnbX/99dfbH3/88fbff/9tDkFrtPbPP//8sRY+l+r8oegKB//888/br7/++mPvtIeKPy0EQiAEjkRgsRj9/fff74nME5iS79evX48UxyZf9i5GKkxHLEQdFIqT9jUtBEIgBI5CYFqMuruAozj+ET/2LEbSdaY7RfbUX1x8hGXWhkAIhMAeBKbFSK+if/vttzf1o6ZX2HobyGU05gma5P/9+/cfb/fVNbq70A+v3PV2kuuQfd4O694u9CQrPcj4HYuPM0+/9k4BO/i6xGfE7V7j3X7dy5fYDYEQCAEITItRLSos8r5LbnWdipGSvhcgJfOuUFCAPOnLHoXIX9HruMrLDjLdGunSvNv2eJaO8UvrZVuxXtJGhdEZXaK3W+MFXnwu9bnTnbEQCIEQ2IPAzYpRTbK1YCk5U1gIzIuGHzNPsZEuioT00BijODHe6WJuqUfn1juqJb23moeZc7qV7dgJgRAIgRGBxWJUi0hVpEJQZWqhUfKvhabqUXKc3a1IBwWg9vcoRvK3i73GdcTzuj9H9DE+hUAIPBeBaTHiVXS9s3BEXUKuyW6vYjQrVtyx+Ct+xqr/Op/p8vjqMTqxsya2qkPnWl+Lqs5rYe/WfnTsI/F/1HbWh0AIhEBHYFqMtECJS0lSPU1Fij/t5v8jVIDU1Eve74TWJGwl51mBwI77gT/qa5HwsbqmK6Cua3bc2ZHvHu9s/b3nljje27/YD4EQeE4Ci8VIWCgwvJKviVfJ3uck/+nTpx8fjN2jGMkPEim2vOh1RYKxWoykq96ZyOc1DZ1aT+MOsnJh/p593btb3HndM97YDoEQOCeBVcXonKHF6xAIgRAIgbMQSDE6y07FzxAIgRB4YAIpRg+8uQktBEIgBM5CIMXoLDsVP0MgBELggQmkGD3w5ia0EAiBEDgLgRSjs+xU/AyBEAiBByaQYvTAm5vQQiAEQuAsBFKMzrJT8TMEQiAEHphAitEDb25CC4EQCIGzEFhVjHjqgJ54sPZJBWcBcE8/6xMl/KkOa/3yvfEnUvj6+hSG7okU/hSNbp/rEyu6p01UO7OnPWCvi5knWsgP/XQysOseIYVu1qt3f6v+kY2zxON7TWwz9i6f4xA4CoFVxUgXvh7v8+XLlzYxHCWYM/lBMqUwkES6xDuKi0Lka6TPE68Sqicm7GBXunXsMiRh9aMmm14Iqh2tk4z7gi7Fri8l1I/7rvkl28Qs258/f/7JB/QrHveN8VHfMTlrPOIJW3FOC4GzEFhVjHRx65ecJJJf8o9vr3jWhNklwJklyddkT7LWHMdeeKRPc9juErFkOv/cl2pbNqovVUbr3SfZ0A8NX7Ru1GSHeEY+ap74RnrqePXljPHAW/3ZvoG47kfOn4/AYjEieegXnGOSgePSmL8tUpMBicZlSDrMuV7GqozO3ZYnM/njc6O3X1RMdSeAL9wVYLPqRN79ky3JSQc+Oo/ZcccR21v0yW4tAPglXzs7mlc8PMhWxzVxSa/86HRrPXqdE/6z7yNm8gu9Wu86RvGMWGot9lxGNrpxl/FjfPV9PFs8+KvYuz31eHMcAkcksFiM9ItN4lIA3YWupEBC74LkYvfE43J+ITHOGAmCcyVJ9KAXGfXyj8a8j0lGOnwMefUaJ1kyrrEuucmPLcUDfcTifkvPt2/f3m2PfGM9PXpcnvhgVOOhkLBfkvd4tU7n8gUZ7BGvfO14SA6ZulZz+EvcktUPDc4vLy/vXGVnxldrOz+kh7X02MQWvjDvDJFRf5Z4YKf91e99fYHhMeU4BI5IYLEY6ZfcE4Yuak80JPx6sXuwo6SBDInBEwJj6OXcfSGx+jp0qq/znLsOl9cxdrDLGs6r/CXn2Hh9fX1PpiRUxkfxdLbgT1Ll/1E8Rh0zr71TsmcPFZeKj3qNYZtz6e+a5NCheXwnFs3LJvokIz+qX37erZn5obXY63xkDL3S1TX22HWdKZ5afOp5F3PGQuBoBKbFiIvUEwoXKWNrfvFrEqoQqk7NM0YC4Ry7VYevIfHSs6aLp9MjeRKT7PudQye/dQw/5B/xuf8+dqnumQ7NEZ/2T0WlxiiZOua+EANsnRlyGqNgdfrq70Wno9pBt/q1xQgdkh+1+nvc+XLEeIhNvtFqLIynD4EjE5gWIxIVSd17T2ZLbwnUpFOBdIWGMZIq537RuR4uSk84jLGmnvt6P/aLWfpY7zIfPZZeGKKrS9jMre2XdFQGI65r94z96eQrR//9qcdi3Pk+8k88OoYdp5kO5Kvts8Qzu0bFePaCgtjTh8ARCEyLkRJETZhyWhcur3hJbrNfesnrwhgldXQoAaiRPLRGa31srQ6tkWy1yxh635U3/8gXFVn//7IqJhn3sc7PzkkixEPMnLMWNjUO5r2H8yg2dNU9lU32U/q03s/dBseK3fe86pBclWEtveb1Q8M/Z6Bjt4Oseq2tsfg8x0t+wN59OXM8/iIABulD4OgEhsWoSwwEw8XrSUMXshImPzVJkHyZV+9Js87z/ynIdDbxh16yrl8+6cf9lGyV6xIv/tS12FJPzPjoc2uOsYHPnS32QTLdPD5ovkvaa2zIV+nGj8rDfUBGdmtzHZKrvwNVXjqqHvYZOzWmunfIuc/ORPPVRmUimW4PzxJP5ar4lt6tqGtyHgL3JjAsRvd27N72c0HfewdiPwRC4JkIpBg1u82r8+5OpBHPUAiEQAiEwAcJpBgZQH/7JoXIwOQwBEIgBK5MIMXoyoCjPgRCIARCYJlAitEyo0iEQAiEQAhcmUCK0ZUBR30IhEAIhMAygRSjZUaRCIEQCIEQuDKBFKMrA476EAiBEAiBZQKnK0b82XX9MORyqD9L8MHI7sOOP0vmLARCIARC4NoEpsWIxM+n3OnvmcDx6ZmKEU8CuPTPzf1P1rsnElz7lyz6QyAEQmCJwKpi5EmQx7H42JKRzF9GgCKir3tX8b2EOTpYSzGvj8i5zMOsCoEQCIF9CGwuRjKrRLb03LF93HteLXoenL6bSMWEAkJB2UKl2yu9oPBnuW3RF9kQCIEQuAaBi4sRr6xJlEpwSpa8lcc8TvucZLrEyqt4dHjCrA/rHBXDaqe+nefzrh8/1XP3hx+uAz+kRzEi0/mD7MiO25wdw7hjNluHfV+HLvmtONNCIARC4AgENhcjEjWJzJMbBYiigoySoSd01niSRK+PjQBJpkv+0uF2Rus1Lh+7JxtLRy0eigu9JHglc3zt4pENZKu+mV/d3Eh/J+tjrGMfYLz1681dZ45DIARC4BoEVhUjXv2rJynjDAmPQqRxkrCSNfMkRNZ5QUHedSDX9b7W50m21ZbLcNwVo5EfHkMnwxjFCRt79djfqp91fB0HBZzxrfr2iid6QiAEQqASWFWMZklrKbEx7wWNY5Lj1mQuf1hbA6IgYWNUmGbFqMZLDBrHVy+cjNV11bdLz93+Fh34JRbOAX0+tkVvZEMgBEJgbwI3K0azxEfSXJvMJTcqRg5INmsiZv6SYiR9+HqGYqRY5WdlpTjqHS5c0odACITAPQhcvRgpKCXEpeSnAjMqHBXM2mI0uwPoipHsSHf9Px5P6FuKEbJVX41n6Zw45FvXmO/4KU7ZZy2ynHf6MhYCIRACtyZwk2KkoJTQlSz9pyZE7mSQ8SROUmWO3mWkj3F6t0FxYM57l6t6/M4CHYqHxpjr0Bzj7iNr1vQdM/ns/kgPBUZzYlhbZVf9rPI5D4EQCIFbE5gWo1s7E3shEAIhEALPSSDF6Dn3PVGHQAiEwKEIpBgdajviTAiEQAg8J4EUo+fc90QdAiEQAocikGJ0qO2IMyEQAiHwnARSjJ5z3xN1CIRACByKQIrRobYjzoRACITAcxJIMXrOfU/UIRACIXAoAqcpRnyAlA+q1g9+imr90Gz3AdBD0Y8zIRACIRAC7wSmxagWAArBvZO8niDQFSP2lCcSXNPP+pSGS2xpDUzVd09GqE9hqHHX+e6xS9WOPxECVu4HxzNbrgPu1U4Xj2SdnevxcXygh2+Nl3nXgz9uS+tqI/aOmWSX4qn+Vh/Qj4/0zqU+HQMZ4q0+5zwEHpXAqmLkF4+O60V3azjyoSZK94EkcK0LujIgaW2xJ1nniM/OWgnU40SmS6zEX9dUO5KTzCgBa54XIW6nrukYLMWDXo8Jv0d953+VlS9dPEr0+s4q/XgsWk88fKW72HqrdmHv++PyOq5+sEa6Rg0f1aeFwDMT2FyMeCU3u8CuDVQX/SyhrUkCl/qI7pqUlNxmPrk9knLVIaboQKZLonXMdUuHJ+aaICVbZXw9815Yuj13/ziexSO9mie+arM7R+8s3tF+sFY2td51KH7OOz6+1v3y/fFxjmthwTetG7W6ZiSX8RB4dAKbi5EuYk92AsRFx1sMdb6TkWy9SKUbHeprcmMzlpIa/lT9rCfZeMJlbqnvkofsyN8u7k4f9mt80v3p06d3nlqHXuTUz3xGL4lWOmBBEZAN6UBn9a/TIT9qbFqvmKVXNtRXnR4PeqtMte/nsjuLV7LSV32r4+LhTNxGt37kq8fjOjiWDThrDPaKY9Sks/vG4ZF8xkPgUQmsKkZeIPxiExQuOE8y9QInAY4SgvRojV+0OpZdH2MTJFv9YM596tZqnmSzlOhcJ8fS6clPMelcX+W9RV9lNPIJviR+ydUmH9ijERdklnxUfFXGeeOn7Ly8vPxgsRQPcfCV50v+Ymf2O4NO2fbGOPsvHSM91W/01HH86dgQi/9eSA9+MK++7g/XhsuMfMW39CHwiARWFSMudvX1YurGuAg9GdR1SzCrDpfvbPr8bK3LXXJMMSJpw4ZzJZe1TUmHJKQkp+TuyU46NS8bo2RYbUnWdcAC/ppHZ12LjZoMtUbr9fXlWiu/1DTuCXgWD364/MiedK/hWe0Tj/zwGOo5cl0MPjeLx+U4Zr/gwzg9DNgLxr2nOLn/Pp/jEHhUApuKEReTX2wkN5Kq98jNkgFguQh9vSc+5NSTHJXMutb52cldMoafnlSlR7HWsa36pYNERaJWrDTGkGHce2RY17HSmBcs1iu27i0j+aW9qHY73ehS7/GM9mTEbel3psaJ3U7fTJdiWLtvHg/2aj+zBZOOvevZ4pOvy3EInJnApmKkQHWh6IKjLSUkyS1doCQq6aIxpgRQ25LN2dqqa+s5ut1X6ViKcclOTa7YqfFvjb3za1R0JFsLjvymALsv1d8aX52v58grnloMOnvI08uXLqkrhvqCxs/rvnX2seH9yP+tMmvsjfbBbeU4BB6NwOZiVBMF5/Uid1BKHEoIIxkSr8+TVDwBolNyXdJkHn3dWsmQWLpkho5ZL/u+dpQY8UOxj3xxfzwmfPQx9InNqGnOk3v1VeuqjMbYx5GfdY30uh33p/Nd89Lta4hHurzJlsftczpGv+TWNMmNZGdxoBt7M58k27FGh3oY13hdRoyWfl9cPsch8CgENhcjBa4L25MKF5m/AvV5relkPPHpAvX1+v8TXfzIdOsl70VBfrkOjmsiIrn42q0b6v6O9JBs5QdxYKfG0yUo/CQO9S7XzddYZc99lY6aVNFTx/GV3vku7a/7yfrOlyq3JhlrzYi52+JYfjuXyt75sk9Vpvop3c6j41p1dD4TLz5UrsSQPgQencC0GD168IkvBEIgBELgGARSjI6xD/EiBEIgBJ6aQIrRU29/gg+BEAiBYxBIMTrGPsSLEAiBEHhqAilGT739CT4EQiAEjkEgxegY+xAvQiAEQuCpCaQYPfX2J/gQCIEQOAaBFKNj7EO8CIEQCIGnJpBi9NTbn+BDIARC4BgEFouRPnnOp8Ppu0+S87SBa36CHBv4sfTEgA4xTxtAR+dv/VR89+l76YZNN1/tyJ4/BQDf6qf0qy7/lH/Hvdrp4pEt7IyYuR35ukau2lrDze108chX9rnqh1m143pYy/56P4oJvelDIATuR2BVMVq6iJVglDhGX+G8R3gkGdlSIwkv+ea2WYMOzSn5e9JTouuSmxcJEjvx+pz75nZY47I6dlvuq4613uOrvq2JBxnp+fz580/6sFftVNaS68ZYr776hrzHW+3UNdIjmdnv0myNbHYNBtKdFgIhcEwCHy5GSg5c5Eo8ntj3DLnTTYKXD2ua5Kp/JCrNcewJVHo1R1GQjJK6bHcJV/LdeNWt9d3XNRDHaF6s8W8pHumSLPJaSxzYwS/2kHGd+1g9R049OrDDnHNbGw82pavulfR24x0HfFCv+VnRd9kch0AI3IfAh4uRu90lCp9XotHbJkoOW1tNhiRA6atJcKR7lLSkWzrQWfUpkfrXgaO/KzrMSYfHKhueXDVfCwNr1Y+St9ZJl9pSPK5Px1rX2ZQe5ygbnryJc7Rva7iticf9lQ/Oizl8IQ7pla+S7xq+wayTyVgIhMD9CZyiGJFQSDgkIJ7svTbRkMjQI/wkYnTUJIhtT85sW6ePOfX4qUSPfuZ1zo/m9eM2sOvr0Eci7uzXeLCnXrpY6+M6Rpf8qDKyq7s4vlodf923JW5r4nGfqj6f07FsV2ZVRufi4Vw7mYyFQAjcn8CqYkTyoe9esSqUpQRyabgkMulXEsI+454Ul2yQ0ImF/0dxHSQ6kl39OnBskMDlV20a03olQ+TwW7LY0Dyt8mMdvqpI4K9iV1sTD/plsxYazVHAZB+mnsCx4WvxzWMnphE31sziwdfKgnF04IvkpM/9QJZY5FdaCITAsQmsKkZc+EuhjBLI0ro18yQ6TzokGx9bo8tl0OFFwed1rLmOAYmx2mfcdTJGYlTPMfaQ8XXM0WtNtcec+lk8WlvjQN51MoYsd0bqvWkNMj7O8Ygb8+pH8Ui3F2/WdDY15sUT2ZHfzKcPgRA4DoHTFKMuOe2RbJQwu6THFpGYZb82ikedG/mlxKsfNa2piVzrlFRHxWik1/2axdMVI2KoNt2/kUynD19m3JCZxSP73b44wyU9M/9Ymz4EQuAYBG5ajJQc9JZKTXxrUJAQpUONZMc5OhgfvXWDnHr5MfMHXbVooAOfajFi3H2j0CCLjLOQ/MhWXY8P3i/F0+nvYsQ399+Lk2zij/uPL51O5uhZDw/G6TXeFSON17sg+Vll0d/5h430IRACxyHw4WLERa+kXn9qIlDSmCX/JSwkSex4smQtiVAyXaLDB83XBCYdNZ4lHfii3gtJ9VXzlUe15evli2yjvyZg4l2KRzbR4b3rc2bIrInb46mxdOuX4qk68EW923I9mqvciKeOwyx9CITA8QgsFqPjuRyPQiAEQiAEHo1AitGj7WjiCYEQCIETEkgxOuGmxeUQCIEQeDQCKUaPtqOJJwRCIAROSCDF6ISbFpdDIARC4NEIpBg92o4mnhAIgRA4IYEUoxNuWlwOgRAIgUcjkGL0aDuaeEIgBELghAQOV4z4wCIfePQPZ+7Jlw+L+ocp99R/Rl18mLT7wOoZ44nPIRAC5yGwqhjVpwl0Ty7YK2QViVt8cv6exYiCWzlSDLYWSK3bgxn2U4z2+m2OnhAIgbUEFouREqPuUjxBqTh9/fp1rY3VchS9rcl4tYGDCKoY6asg9B1BxNqNrXV3r2K01l7kQiAEQmBvAtNixCt43UXcoj1bMdL3JMFWz2XjrpACtZZ5itFaUpELgRA4KoFpMVKC1Kt39bNWH3Dp/89DQVPC5K2x+nBLzfF/RLUnWStBu175o7HRW13omc1XfcQovaxX7zrWxIOeUa+iq68xlx29vaZzMXh9fX0/1zGtsoGH5p2n+6tj6VbzPXR5t1HjZS0+MO+2eeGwx9uD2EkfAiHwvASmxUhJyBNxh4lC5AlMiY5ET/JWgiQBksg4Ry/jros5jaHTx9y/Nf6y1pM0Y+o7O0rC2NkSj+v1Y8WpYiQfpFtFSP33799/KkbyxRnB2sekV+ejosAa59/FKD0z/ujRWhiMbHqsOQ6BEAiBNQQ+XIyURGtSIlkpSXIsORpjNanOkmGXQDVGkZBunftdAfa6Xsm13vXhl/uqte5XJ8NYjaeziz6KkXyWH1++fHkXl+2RnpEdydc9wDZFxHV6PMjhl3jKp67BW7469042YyEQAiGwhcBiMap3I1W5kmdN3iRNjfsxaxnzBKm5UZLUnBJh9YXkqHU0jakg8aPzrs2K0cgvjeO7x8xYXdfZ1ZjbrjE7T+aIhb7a0flSMRpxcB+xN5OVf3UfXEeOQyAEQuASAtNiRHKqyc8NefJk3JMzx2uSN/a6ZKixmgQ1NnuFrnkl8E6fF4TOb8bUu19b4nEdftzZZh6eW+zcqhhhR28rzrgTS/oQCIEQWEtgWoykRAlICd0LkpIzf9rdJXzJkqy2JFVP+jUAJXAVIwoLdrFT5XW+pK++TUe8teipQHDnsSWezieNKRa9TSf/apsVo24vtF4sqs/ordwY7/oZr2rDmXS6MhYCIRACWwgsFiMpI/HzNlEtALP5Lcl7lgzlB8lYfsgH2fWk7vP4qjEavjDnvctVPRQi6UGHkjGNMdfBXNfL78oQOYqRzitX5jo7mvN4tFZtTTGqa9GjcTV4uF32ahTH+8L8EwIhEAIrCawqRit1RSwEQiAEQiAELiKQYnQRtiwKgRAIgRDYk0CK0Z40oysEQiAEQuAiAilGF2HLohAIgRAIgT0JpBjtSTO6QiAEQiAELiKQYnQRtiwKgRAIgRDYk0CK0Z40oysEQiAEQuAiAilGF2HLohAIgRAIgT0J7FKM+NAnH5bsPghZP8DpH6DcM6Bb6Krxjp5+cAtfYiMEQiAEHoHArsVoVmBmTx1wkP40gK6o3eqT/zy5wJ++4H5yLLnusULMpw+BEAiBEFgmcJhiRJHhETSd65pTgbrmVxhw16MipK8GTzHqdiJjIRACIbAvgcMUIxWaWSHSnRXzugPr7pr2QCPd3OHJXorRHlSjIwRCIATmBA5RjLgr4uGec5f//8Gd1ypGbjvFyGnkOARCIASuR+AQxYj/d/n27dv7VyHwhxDcCdXwr3ln5LZSjJxGjkMgBELgegQOU4z0F2n+lhh3S7xl5ghSjJxGjkMgBELg/AQOU4y6v0hT0fECBe4UI0ikD4EQCIHHIHCIYsRdUP0/o9HbZClGj/HLlyhCIARCAAKHKEZypt4F8TmfWqCQzR8wsIXpQyAEQuD8BA5TjIRSd0L88YJ6L0QUJ5/n2OU+uiXShV7vR09Z4I8v1KeFQAiEQAhcRuBQxeiyEO67KsXovvxjPQRC4DEIpBh9cB9TjD4IMMtDIARC4O3tbddixNta3f/n1Le/9H9EZ208Moh4R2/hnTW++B0CIRACtyawSzG6tdOxFwIhEAIh8FgEUoweaz8TTQiEQAickkCK0Sm3LU6HQAiEwGMRSDF6rP1MNCEQAiFwSgIpRqfctjgdAiEQAo9FYJdiVP+6rPtrujNh01/68Zdy6utf/tV489d0Z9rd+BoCIXBEArsWo5q0twbsT2D4aIKnoEinN56DR7GZFU6KziyufM7I6eY4BEIgBC4jcJhipKLhhUEF4NKCRIHQk8C9GHXFRfPdk8GFs5OvmLGlPi0EQiAEQuAyAocoRkrkKjz+jDkKgReTNSGyTsVMa5fWy+ao6Lmuke0UoxGZjIdACITAegKHKEYqCH5XJPd5m2101zIKUevQlWI0opTxEAiBEDgWgUMUIxUQig53Izp/eXn5UVjWYOP/g7jDWlOMJIPtagNf5N+o5c5oRCbjIRACIbCewKGK0evr6/tfsVFM/C5nTUi1+NTzqkP69YcM2KvzKUaVSM5DIARC4DoEDlGMVAxUFOodit8xLYUvHbw9h+ysGC0VIulIMYJk+hAIgRC4LoFDFKPZHzCoaKxpKjz8uXbXu541hUg2U4zWkI9MCIRACHycwCGKkcJQMfE7GxUMP78k1O7OaG0hkr0Uo0uoZ00IhEAIbCdwmGIk1/3u5qOFCH3SSeMPHLo7p/oWodakGEEufQiEQAhcl8ChitF1Q92uPcVoO7OsCIEQCIFLCKQYTailGE3gZCoEQiAEdiSwazHi7a893mLbMcbNqvh/JeLRuTeKFPOjJzj4mhyHQAiEQAiMCexSjMbqMxMCIRACIRACywRSjJYZRSIEQiAEQuDKBFKMrgw46kMgBEIgBJYJpBgtM4pECIRACITAlQn8H0IHgHbU1cxIAAAAAElFTkSuQmCC)"
      ]
    },
    {
      "cell_type": "markdown",
      "metadata": {
        "id": "QVwJmLqcdRv0"
      },
      "source": [
        "In our fourth model, precision value gives us the result that all of the correctly predicted cases actually turned out to be positive which has the same reasoning behind this outcome as our first fold."
      ]
    },
    {
      "cell_type": "markdown",
      "metadata": {
        "id": "EXksiKckIM87"
      },
      "source": [
        "![image.png](data:image/png;base64,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)"
      ]
    },
    {
      "cell_type": "markdown",
      "metadata": {
        "id": "mvKOTibCdg2s"
      },
      "source": [
        "If we make a general comment, the accuracy values of all our models are close to each other and above 93%. This is actually quite satisfactory for us, but if we want to find the decision tree that works best, we should take other performance metrics into account as well because although our accuracy value is quite high, accuracy metric may not be a good measure enough. When we look at the recall values, we get a result between approximately 93% and 98%. Recall value tells us how many of the actual positive cases we were able to predict correctly with our model. According to recall value, our fourth and fifth models which are both has the same recall value give the best results. Precision values of our models are between %91 and %100. Precision value gives us the result that how many of the correctly predicted cases actually turned out to be positive. Our first and fourth models give the best results with respect to precision value. Because precision and recall values are very close to each other, manual calculation may not be the right way to choose the best model. Instead of evaluating these values separately, we can use the F1 score, which is a harmonic mean of these values and captures both the trends in a single value. In the light of this information, we see that our best model, which has the highest accuracy value of 99% and the highest F1 score of 99%, is the 4th model, where K = 3.\n",
        "\n",
        "***Note that shuffling the dataset before using causes different results. We just picked one sample and commented on its outcomes.***"
      ]
    },
    {
      "cell_type": "markdown",
      "metadata": {
        "id": "NIzEOx_HW1_5"
      },
      "source": [
        "#### **Show The Best Decision Tree Rules**\n",
        "Display rules of our best performing decision tree model with respect to classification performance metrics such as accuracy, precision, recall and F1 score. Also show the amount of rules within this best tree, thus, giving us a simple glimpse at its speed. (Since less rules equals to more speed overall when predicting our targets)"
      ]
    },
    {
      "cell_type": "code",
      "metadata": {
        "colab": {
          "base_uri": "https://localhost:8080/"
        },
        "id": "AQ78igkGSON4",
        "outputId": "d8dff58d-5c2d-4078-ad46-a074dd716923"
      },
      "source": [
        "best_tree = best_tree_and_f1[0]\n",
        "best_tree.catalogue_twigs()\n",
        "best_positive_rules = best_tree.rules['Positive']\n",
        "\n",
        "show_rules(\"Best\", best_positive_rules)"
      ],
      "execution_count": null,
      "outputs": [
        {
          "output_type": "stream",
          "name": "stdout",
          "text": [
            "**************************************************\n",
            "Best Tree's Rules' Size: 15\n",
            "\n",
            "Best Tree's Rules:\n",
            "\n",
            "(Polydipsia=No ^ Polyuria=No ^ Gender=Female ^ Alopecia=No ^ visual blurring=No ^ Age=1 ^ Irritability=No ^ weakness=No ^ sudden weight loss=No ^ Obesity=Yes)\n",
            "\n",
            "∨ (Polydipsia=No ^ Polyuria=No ^ Gender=Female ^ Alopecia=No ^ visual blurring=No ^ Age=1 ^ Irritability=No ^ weakness=Yes)\n",
            "\n",
            "∨ (Polydipsia=No ^ Polyuria=No ^ Gender=Female ^ Alopecia=No ^ visual blurring=No ^ Age=2)\n",
            "\n",
            "∨ (Polydipsia=No ^ Polyuria=No ^ Gender=Female ^ Alopecia=No ^ visual blurring=No ^ Age=3)\n",
            "\n",
            "∨ (Polydipsia=No ^ Polyuria=No ^ Gender=Female ^ Alopecia=No ^ visual blurring=No ^ Age=4)\n",
            "\n",
            "∨ (Polydipsia=No ^ Polyuria=No ^ Gender=Female ^ Alopecia=No ^ visual blurring=Yes)\n",
            "\n",
            "∨ (Polydipsia=No ^ Polyuria=No ^ Gender=Male ^ Irritability=No ^ Age=1 ^ delayed healing=Yes ^ Genital thrush=No)\n",
            "\n",
            "∨ (Polydipsia=No ^ Polyuria=No ^ Gender=Male ^ Irritability=Yes ^ Genital thrush=Yes)\n",
            "\n",
            "∨ (Polydipsia=No ^ Polyuria=Yes ^ Itching=No)\n",
            "\n",
            "∨ (Polydipsia=No ^ Polyuria=Yes ^ Itching=Yes ^ Genital thrush=Yes ^ Obesity=No)\n",
            "\n",
            "∨ (Polydipsia=Yes ^ Polyuria=No ^ Irritability=No ^ Age=0)\n",
            "\n",
            "∨ (Polydipsia=Yes ^ Polyuria=No ^ Irritability=No ^ Age=3)\n",
            "\n",
            "∨ (Polydipsia=Yes ^ Polyuria=No ^ Irritability=No ^ Age=4)\n",
            "\n",
            "∨ (Polydipsia=Yes ^ Polyuria=No ^ Irritability=Yes)\n",
            "\n",
            "∨ (Polydipsia=Yes ^ Polyuria=Yes)\n",
            "**************************************************\n"
          ]
        }
      ]
    },
    {
      "cell_type": "markdown",
      "metadata": {
        "id": "5wHqc0gdhEa8"
      },
      "source": [
        "#### **Show the Sizes of Each Tree's Rules and Compare them to the best of Them**\n",
        "\n",
        "Below, we can see that each of our different folds resulted in different amounts of rules within their decision trees. Showing us the fact that even slightly different training sets may result in drastically different decision trees that differ greatly in both performance, accuracy and speed (Since with a smaller rule set within a tree, we will get a smaller set of nodes to explore before reaching a conclusion, meaning less rules equals to smaller tree and greater speed overall). \n",
        "\n",
        "Also, from below, we can see that our best decision tree has slightly less rules within itself. This fact, however, is circumstantial as with different tests, we saw numerous different outcomes such as the tree with drastically most rules being the best tree etc. So it is hard to come to a definitive conclusion from this single observation alone."
      ]
    },
    {
      "cell_type": "code",
      "metadata": {
        "colab": {
          "base_uri": "https://localhost:8080/"
        },
        "id": "AvaoGnNTfxHw",
        "outputId": "6645ef2e-589f-4882-d124-14b24ed1768c"
      },
      "source": [
        "tree_index = 0\n",
        "for tree, _, _ in trees_and_f1_scores:\n",
        "  tree.catalogue_twigs()\n",
        "  tree_rules = tree.rules['Positive']\n",
        "\n",
        "  print(\"Tree No.\", tree_index, \"Rule Amount:\", len(tree_rules))\n",
        "  tree_index += 1\n",
        "\n",
        "print()\n",
        "print(\"Best Tree Rule Amount:\", len(best_positive_rules))"
      ],
      "execution_count": null,
      "outputs": [
        {
          "output_type": "stream",
          "name": "stdout",
          "text": [
            "Tree No. 0 Rule Amount: 15\n",
            "Tree No. 1 Rule Amount: 20\n",
            "Tree No. 2 Rule Amount: 19\n",
            "Tree No. 3 Rule Amount: 22\n",
            "Tree No. 4 Rule Amount: 15\n",
            "\n",
            "Best Tree Rule Amount: 15\n"
          ]
        }
      ]
    },
    {
      "cell_type": "markdown",
      "metadata": {
        "id": "Loa-8h-ic4EF"
      },
      "source": [
        "# **Part 2**\n",
        "In the second part, we will prune our decision tree which is constructed [in the first part of our report](https://colab.research.google.com/drive/1vU7NAzQMq8YZmS4_60gwwf9WwSrUh5eP#scrollTo=cdqB4Lm-u3Z5) to prevent overfitting by shortening the lengths of branches and the tree overall."
      ]
    },
    {
      "cell_type": "code",
      "metadata": {
        "id": "GhdEhj6QSfE4"
      },
      "source": [
        "#At the start, we will section off parts of our code into train, test and validation sets\n",
        "\n",
        "#First, we partition the code into a 60-40 split, with 60% going into train set\n",
        "#and the rest into a test-validation set symbiosis\n",
        "train_set, valid_set = train_test_split(df_arr, test_size=0.40, shuffle=True)\n",
        "\n",
        "#Then we partition validation and test sets from the middle to\n",
        "#get ourselves a 60-20-20 split of train-validation-test split\n",
        "valid_set, test_set = train_test_split(valid_set, test_size=0.50, shuffle=True)\n",
        "\n",
        "#We create and initialize a decision tree\n",
        "dec = DecisionTreeID3()\n",
        "\n",
        "#Construct and fit our decision tree with the help of our training data set\n",
        "dec.fit(train_set, df.columns, column_value_dict)\n",
        "\n",
        "#Predict the results of the test set with our current iteration of this decision tree\n",
        "predictions = dec.predict(test_set)\n",
        "\n",
        "#Store the accuracy result of the initial test\n",
        "old_accuracy = accuracy_score(test_set[:,-1], predictions)\n",
        "\n",
        "#Now, catalogue the twigs so that we may find out the rules of our initial tree\n",
        "dec.catalogue_twigs()\n",
        "\n",
        "#Store the rules of the tree before prunning operation\n",
        "rules_before_prune = dec.rules['Positive']\n",
        "\n",
        "#Prune our tree using our validation dataset\n",
        "dec.prune_tree(valid_set)\n",
        "\n",
        "#After prunning, predict the results of test set once again with a pruned tree\n",
        "predictions = dec.predict(test_set)\n",
        "\n",
        "#Store the accuracy result of the pruned tree test\n",
        "new_accuracy = accuracy_score(test_set[:,-1], predictions)\n",
        "\n",
        "#Catalogue the tree once again to find the final rules of the tree\n",
        "dec.catalogue_twigs()\n",
        "\n",
        "#Store the rules of the tree after prunning operation\n",
        "rules_after_prune = dec.rules['Positive']"
      ],
      "execution_count": null,
      "outputs": []
    },
    {
      "cell_type": "markdown",
      "metadata": {
        "id": "Zx9We7XwjNmM"
      },
      "source": [
        "### Old/New Accuracy And Rules\n",
        "\n",
        "With the display of our tests below, we can see that with the help of prunning we are not improving the accuracy of our tree as of yet, (where it actually does increase from time to time which happens at around 25% percent of the time, as we will talk about shortly), but it massively cuts back the rule amount; and, as a result, both tree size (as this means we shortened our branches considerably) and prediction time (as we will need considerably shorter time to get to a final result) gets extremely shorter each time. Thus increasing the speed of our predictions and code considerably. We can see that our pruning cut back the rule amount by more than half this time (from 24 to 10), which may result in an incredible performance increase."
      ]
    },
    {
      "cell_type": "code",
      "metadata": {
        "colab": {
          "base_uri": "https://localhost:8080/"
        },
        "id": "3_mWRvN9SfsI",
        "outputId": "0d68c8d7-1362-41cb-84fd-3c428d82a651"
      },
      "source": [
        "print(\"Pre-Pruning Accuracy:\", old_accuracy)\n",
        "print(\"Post-Pruning Accuracy:\", new_accuracy)\n",
        "print()\n",
        "print(\"Rule Count Before Pruning:\", len(rules_before_prune))\n",
        "print(\"Rule Count After Pruning:\", len(rules_after_prune))"
      ],
      "execution_count": null,
      "outputs": [
        {
          "output_type": "stream",
          "name": "stdout",
          "text": [
            "Pre-Pruning Accuracy: 0.9519230769230769\n",
            "Post-Pruning Accuracy: 0.9519230769230769\n",
            "\n",
            "Rule Count Before Pruning: 24\n",
            "Rule Count After Pruning: 10\n"
          ]
        }
      ]
    },
    {
      "cell_type": "code",
      "metadata": {
        "colab": {
          "base_uri": "https://localhost:8080/"
        },
        "id": "Fsg5fGJrSiPg",
        "outputId": "5f82e99e-386d-4b96-f6d4-29111aecea40"
      },
      "source": [
        "show_rules(\"Before Pruning\", rules_before_prune)"
      ],
      "execution_count": null,
      "outputs": [
        {
          "output_type": "stream",
          "name": "stdout",
          "text": [
            "**************************************************\n",
            "Before Pruning Tree's Rules' Size: 24\n",
            "\n",
            "Before Pruning Tree's Rules:\n",
            "\n",
            "(Polyuria=No ^ Gender=Female ^ Alopecia=No ^ Age=0)\n",
            "\n",
            "∨ (Polyuria=No ^ Gender=Female ^ Alopecia=No ^ Age=1 ^ Polyphagia=No ^ weakness=No ^ sudden weight loss=No ^ Polydipsia=No ^ Genital thrush=No ^ visual blurring=No ^ Itching=No ^ Irritability=No ^ delayed healing=No ^ partial paresis=No ^ muscle stiffness=Yes)\n",
            "\n",
            "∨ (Polyuria=No ^ Gender=Female ^ Alopecia=No ^ Age=1 ^ Polyphagia=No ^ weakness=No ^ sudden weight loss=No ^ Polydipsia=No ^ Genital thrush=No ^ visual blurring=No ^ Itching=No ^ Irritability=No ^ delayed healing=No ^ partial paresis=Yes)\n",
            "\n",
            "∨ (Polyuria=No ^ Gender=Female ^ Alopecia=No ^ Age=1 ^ Polyphagia=No ^ weakness=No ^ sudden weight loss=No ^ Polydipsia=No ^ Genital thrush=No ^ visual blurring=No ^ Itching=No ^ Irritability=No ^ delayed healing=Yes)\n",
            "\n",
            "∨ (Polyuria=No ^ Gender=Female ^ Alopecia=No ^ Age=1 ^ Polyphagia=No ^ weakness=No ^ sudden weight loss=No ^ Polydipsia=No ^ Genital thrush=No ^ visual blurring=No ^ Itching=No ^ Irritability=Yes)\n",
            "\n",
            "∨ (Polyuria=No ^ Gender=Female ^ Alopecia=No ^ Age=1 ^ Polyphagia=No ^ weakness=No ^ sudden weight loss=No ^ Polydipsia=No ^ Genital thrush=No ^ visual blurring=No ^ Itching=Yes)\n",
            "\n",
            "∨ (Polyuria=No ^ Gender=Female ^ Alopecia=No ^ Age=1 ^ Polyphagia=No ^ weakness=No ^ sudden weight loss=No ^ Polydipsia=No ^ Genital thrush=No ^ visual blurring=Yes)\n",
            "\n",
            "∨ (Polyuria=No ^ Gender=Female ^ Alopecia=No ^ Age=1 ^ Polyphagia=No ^ weakness=No ^ sudden weight loss=No ^ Polydipsia=No ^ Genital thrush=Yes)\n",
            "\n",
            "∨ (Polyuria=No ^ Gender=Female ^ Alopecia=No ^ Age=1 ^ Polyphagia=No ^ weakness=No ^ sudden weight loss=No ^ Polydipsia=Yes)\n",
            "\n",
            "∨ (Polyuria=No ^ Gender=Female ^ Alopecia=No ^ Age=1 ^ Polyphagia=No ^ weakness=Yes)\n",
            "\n",
            "∨ (Polyuria=No ^ Gender=Female ^ Alopecia=No ^ Age=1 ^ Polyphagia=Yes)\n",
            "\n",
            "∨ (Polyuria=No ^ Gender=Female ^ Alopecia=No ^ Age=2)\n",
            "\n",
            "∨ (Polyuria=No ^ Gender=Female ^ Alopecia=No ^ Age=3)\n",
            "\n",
            "∨ (Polyuria=No ^ Gender=Female ^ Alopecia=No ^ Age=4)\n",
            "\n",
            "∨ (Polyuria=No ^ Gender=Male ^ Irritability=Yes ^ Polydipsia=No ^ Genital thrush=Yes)\n",
            "\n",
            "∨ (Polyuria=No ^ Gender=Male ^ Irritability=Yes ^ Polydipsia=Yes)\n",
            "\n",
            "∨ (Polyuria=Yes ^ Polydipsia=No ^ Itching=No)\n",
            "\n",
            "∨ (Polyuria=Yes ^ Polydipsia=No ^ Itching=Yes ^ delayed healing=No)\n",
            "\n",
            "∨ (Polyuria=Yes ^ Polydipsia=No ^ Itching=Yes ^ delayed healing=Yes ^ Gender=Female)\n",
            "\n",
            "∨ (Polyuria=Yes ^ Polydipsia=No ^ Itching=Yes ^ delayed healing=Yes ^ Gender=Male ^ Obesity=No ^ Age=0)\n",
            "\n",
            "∨ (Polyuria=Yes ^ Polydipsia=No ^ Itching=Yes ^ delayed healing=Yes ^ Gender=Male ^ Obesity=No ^ Age=1)\n",
            "\n",
            "∨ (Polyuria=Yes ^ Polydipsia=No ^ Itching=Yes ^ delayed healing=Yes ^ Gender=Male ^ Obesity=No ^ Age=2)\n",
            "\n",
            "∨ (Polyuria=Yes ^ Polydipsia=No ^ Itching=Yes ^ delayed healing=Yes ^ Gender=Male ^ Obesity=No ^ Age=4)\n",
            "\n",
            "∨ (Polyuria=Yes ^ Polydipsia=Yes)\n",
            "**************************************************\n"
          ]
        }
      ]
    },
    {
      "cell_type": "code",
      "metadata": {
        "colab": {
          "base_uri": "https://localhost:8080/"
        },
        "id": "FF0AsCgeSjwg",
        "outputId": "7e539217-e8ae-4f32-fe7c-6d40dac67450"
      },
      "source": [
        "show_rules(\"After Pruning\", rules_after_prune)"
      ],
      "execution_count": null,
      "outputs": [
        {
          "output_type": "stream",
          "name": "stdout",
          "text": [
            "**************************************************\n",
            "After Pruning Tree's Rules' Size: 10\n",
            "\n",
            "After Pruning Tree's Rules:\n",
            "\n",
            "(Polyuria=No ^ Gender=Male ^ Irritability=Yes ^ Polydipsia=No ^ Genital thrush=Yes)\n",
            "\n",
            "∨ (Polyuria=No ^ Gender=Male ^ Irritability=Yes ^ Polydipsia=Yes)\n",
            "\n",
            "∨ (Polyuria=Yes ^ Polydipsia=No ^ Itching=No)\n",
            "\n",
            "∨ (Polyuria=Yes ^ Polydipsia=No ^ Itching=Yes ^ delayed healing=No)\n",
            "\n",
            "∨ (Polyuria=Yes ^ Polydipsia=No ^ Itching=Yes ^ delayed healing=Yes ^ Gender=Female)\n",
            "\n",
            "∨ (Polyuria=Yes ^ Polydipsia=No ^ Itching=Yes ^ delayed healing=Yes ^ Gender=Male ^ Obesity=No ^ Age=0)\n",
            "\n",
            "∨ (Polyuria=Yes ^ Polydipsia=No ^ Itching=Yes ^ delayed healing=Yes ^ Gender=Male ^ Obesity=No ^ Age=1)\n",
            "\n",
            "∨ (Polyuria=Yes ^ Polydipsia=No ^ Itching=Yes ^ delayed healing=Yes ^ Gender=Male ^ Obesity=No ^ Age=2)\n",
            "\n",
            "∨ (Polyuria=Yes ^ Polydipsia=No ^ Itching=Yes ^ delayed healing=Yes ^ Gender=Male ^ Obesity=No ^ Age=4)\n",
            "\n",
            "∨ (Polyuria=Yes ^ Polydipsia=Yes)\n",
            "**************************************************\n"
          ]
        }
      ]
    },
    {
      "cell_type": "markdown",
      "metadata": {
        "id": "IMtVTCOI2sA-"
      },
      "source": [
        "### Accuracy Decrease/Increase/No-Change Amounts\n",
        "\n",
        "Below, we tested our pruning code multiple times using iteration to get a sense of how good pruning is for increasing accuracy, whether the accuracy increase, decrease or not change at all after we prune our decision tree. To do this, for multiple times; we create train, validation and test sets, fit our newly created decision tree, predict the before-prune predictions and find out its before-prune accuracy before storing that accuracy; Then, catalogue the tree's twigs for pruning, after the pruning is complete, we predict the results once again and calculate their latest accuracy and store it as well. After iterating over this process multiple times, we finally iterate over each of the resulting accuracies to calculate whether they increased, decreased or not changed after pruning is completed."
      ]
    },
    {
      "cell_type": "code",
      "metadata": {
        "id": "Kcl-54RcWZof",
        "colab": {
          "base_uri": "https://localhost:8080/"
        },
        "outputId": "5211762b-8cbc-4f8d-bc68-2f40f5d4630b"
      },
      "source": [
        "old_accuracy = []\n",
        "new_accuracy = []\n",
        "\n",
        "iter_count = 10000\n",
        "for i in range(iter_count):\n",
        "    train_set, valid_set = train_test_split(df_arr, test_size=0.40, shuffle=True)\n",
        "    valid_set, test_set = train_test_split(valid_set, test_size=0.50, shuffle=True)\n",
        "\n",
        "    dec = DecisionTreeID3()\n",
        "    dec.fit(train_set, df.columns, column_value_dict)\n",
        "    \n",
        "    predictions = dec.predict(test_set)\n",
        "    \n",
        "    old_accuracy.append(accuracy_score(test_set[:,-1], predictions))\n",
        "    \n",
        "    dec.catalogue_twigs()\n",
        "    \n",
        "    dec.prune_tree(valid_set)\n",
        "\n",
        "    predictions = dec.predict(test_set)\n",
        "    new_accuracy.append(accuracy_score(test_set[:,-1], predictions))\n",
        "    \n",
        "positive = 0\n",
        "negative = 0\n",
        "for i in range(iter_count):\n",
        "    if (old_accuracy[i] > new_accuracy[i]):\n",
        "        negative += 1\n",
        "    elif (new_accuracy[i] > old_accuracy[i]):\n",
        "        positive += 1\n",
        "\n",
        "print(\"The Pruning Counts Where Accuracy Decreased: \", negative)\n",
        "print(\"The Pruning Counts Where Accuracy Increased: \", positive)\n",
        "\n",
        "neuter = iter_count - positive - negative\n",
        "print(\"The Pruning Counts Where Accuracy Didn't Change: \", neuter)"
      ],
      "execution_count": null,
      "outputs": [
        {
          "output_type": "stream",
          "name": "stdout",
          "text": [
            "The Pruning Counts Where Accuracy Decreased:  2068\n",
            "The Pruning Counts Where Accuracy Increased:  2557\n",
            "The Pruning Counts Where Accuracy Didn't Change:  5375\n"
          ]
        }
      ]
    },
    {
      "cell_type": "markdown",
      "metadata": {
        "id": "Uw8lJulcUfGv"
      },
      "source": [
        "Above, we can clearly see that after ten thousand different tree construction, pruning, prediction iterations, our accuracy of predictions decreased 20% of the time, increased 25% of the time and didn't change 55% of the time. Which is actually an acceptable result since, while the decrease of accuracy is bad, it only does so in a small way that may as well be resulting from our validation set being relatively small and the fact that pruning lessens the overfitting and size of our tree inevitably results in an increase in performance and speed. The fact that our accuracy increases considerably more commonly than its decrease also points us at a similar conclusion where we, demonstrably, not only get better speed and performance but also more commonly get better accuracy after getting rid of overfitting. And with its no-change state being far greater in possibility than the two other possiblities, shows us that the greatest value of this particular pruning algorithm in this particular dataset is in its increases of speed and performance rather than its increases of accuracy which happens less frequently. But then again, it is highly likely that this smaller possibility of accuracy increase is resultant from our considerably small dataset, both for training, validation and test purposes, rather than an inability of accuracy increase of our pruning algorithm, which it actually increases more often than not."
      ]
    },
    {
      "cell_type": "markdown",
      "metadata": {
        "id": "EfGueYQcskox"
      },
      "source": [
        "## **References**\n",
        "Bhandari, A.(2020, April 17). *Everything you should know about confusion matrix for machine learning*. Analytics Vidhya. https://www.analyticsvidhya.com/blog/2020/04/confusion-matrix-machine-learning/"
      ]
    }
  ]
}